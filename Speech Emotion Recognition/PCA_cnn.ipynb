{
 "cells": [
  {
   "cell_type": "markdown",
   "metadata": {},
   "source": [
    "################ IMPORTING THE REQUIRED LIBRARIES"
   ]
  },
  {
   "cell_type": "code",
   "execution_count": 40,
   "metadata": {},
   "outputs": [],
   "source": [
    "import librosa\n",
    "import soundfile\n",
    "import os, glob\n",
    "import numpy as np\n",
    "import pandas as pd\n",
    "import matplotlib.pyplot as plt\n",
    "from sklearn.model_selection import train_test_split\n",
    "from sklearn.neural_network import MLPClassifier\n",
    "from sklearn.metrics import accuracy_score\n",
    "from xgboost import XGBClassifier\n",
    "from sklearn import preprocessing \n",
    "from sklearn.preprocessing import MinMaxScaler\n",
    "from keras.utils import np_utils\n",
    "from keras.utils import to_categorical\n",
    "from sklearn.preprocessing import LabelEncoder\n",
    "from sklearn.decomposition import PCA\n",
    "from keras.models import Sequential\n",
    "from keras.layers import Dense, Activation, Dropout,Flatten,BatchNormalization\n",
    "from keras.optimizers import SGD\n",
    "from keras.layers.convolutional import Conv1D, MaxPooling1D\n",
    "from tensorflow.keras.callbacks import EarlyStopping\n"
   ]
  },
  {
   "cell_type": "markdown",
   "metadata": {},
   "source": [
    "############## EMOTIONS INCLUDED IN THE DATASET"
   ]
  },
  {
   "cell_type": "code",
   "execution_count": 41,
   "metadata": {},
   "outputs": [],
   "source": [
    "emotions={\n",
    "  '01':'neutral',\n",
    "  '02':'calm',\n",
    "  '03':'happy',\n",
    "  '04':'sad',\n",
    "  '05':'angry',\n",
    "  '06':'fearful',\n",
    "  '07':'disgust',\n",
    "  '08':'surprised'\n",
    "}"
   ]
  },
  {
   "cell_type": "markdown",
   "metadata": {},
   "source": [
    "############## EXTRACTING FEATURES FROM THE AUDIO SIGNAL USING LIBROSA"
   ]
  },
  {
   "cell_type": "code",
   "execution_count": 42,
   "metadata": {},
   "outputs": [],
   "source": [
    "\n",
    "def extract_feature(file_name, mfcc, chroma,spectral_centroid,spectral_bandwidth,spectral_rolloff,\n",
    "                    spectral_contrast,rms,spectral_flatness):\n",
    "    with soundfile.SoundFile(file_name) as sound_file:\n",
    "        X = sound_file.read(dtype=\"float32\")\n",
    "        sample_rate=sound_file.samplerate\n",
    "        if chroma:\n",
    "            stft=np.abs(librosa.stft(X))\n",
    "        result=np.array([])\n",
    "        if mfcc:\n",
    "            mfccs=np.mean(librosa.feature.mfcc(y=X, sr=sample_rate, n_mfcc=40).T, axis=0)\n",
    "            result=np.hstack((result, mfccs))\n",
    "            \n",
    "            \n",
    "        if chroma:\n",
    "            chroma=np.mean(librosa.feature.chroma_stft(S=stft, sr=sample_rate).T,axis=0)\n",
    "            result=np.hstack((result, chroma))             \n",
    "           \n",
    "            \n",
    "        if spectral_centroid:\n",
    "            spectral_centroid=np.mean(librosa.feature.spectral_centroid(y=X, sr=sample_rate))\n",
    "            result=np.hstack((result, spectral_centroid)) \n",
    "        \n",
    "        if spectral_bandwidth:\n",
    "           spectral_bandwidth=np.mean(librosa.feature.spectral_bandwidth(y=X, sr=sample_rate).T)\n",
    "#           print(spectral_bandwidth)\n",
    "           result=np.hstack((result, spectral_bandwidth)) \n",
    "           \n",
    "        if spectral_rolloff:\n",
    "           spectral_rolloff=np.mean(librosa.feature.spectral_rolloff(y=X, sr=sample_rate).T)\n",
    "#           print(spectral_rolloff)\n",
    "           result=np.hstack((result, spectral_rolloff))\n",
    "        \n",
    "        if spectral_contrast:\n",
    "           spectral_contrast=np.mean(librosa.feature.spectral_contrast(y=X, sr=sample_rate))\n",
    "           result=np.hstack((result, spectral_contrast))\n",
    "           \n",
    "        if rms:\n",
    "           rms=np.mean(librosa.feature.rms(y=X).T,axis=0)\n",
    "           result=np.hstack((result, rms))\n",
    "           \n",
    "        if spectral_flatness:\n",
    "           spectral_flatness=np.mean(librosa.feature.spectral_flatness(y=X))\n",
    "           result=np.hstack((result, spectral_flatness))\n",
    "        \n",
    "        return result"
   ]
  },
  {
   "cell_type": "markdown",
   "metadata": {},
   "source": [
    "############## LOADING THE DATASET AND EXTRACTING ALL THE FEATURES FROM IT "
   ]
  },
  {
   "cell_type": "code",
   "execution_count": 43,
   "metadata": {},
   "outputs": [],
   "source": [
    "def load_data():\n",
    "    x,y=[],[]\n",
    "    for file in glob.glob(\"F:\\\\speech_project\\\\Actor_*\\\\*.wav\"):\n",
    "        file_name=os.path.basename(file)\n",
    "        emotion=emotions[file_name.split(\"-\")[2]]\n",
    "        feature=extract_feature(file, mfcc=True, chroma=True,spectral_centroid=True,spectral_bandwidth=True,\n",
    "                                spectral_rolloff=True,spectral_contrast=True,rms=True,spectral_flatness=True)\n",
    "        x.append(feature)\n",
    "        y.append(emotion)\n",
    "        \n",
    "        \n",
    "    # Create scaler: scaler\n",
    "    scaler = MinMaxScaler()\n",
    "    X=scaler.fit_transform(x)\n",
    "    X=pd.DataFrame(X)\n",
    "    ############  n_components=40\n",
    "    pca = PCA(n_components=40)\n",
    "    principalComponents = pca.fit_transform(X)\n",
    "    return principalComponents,y"
   ]
  },
  {
   "cell_type": "markdown",
   "metadata": {},
   "source": [
    "############## SHUFFLING OF OBS AND RESETTING THE OBS INDEXES"
   ]
  },
  {
   "cell_type": "code",
   "execution_count": null,
   "metadata": {},
   "outputs": [],
   "source": [
    "X,y=load_data()\n",
    "X=pd.DataFrame(X)\n",
    "y=pd.DataFrame(y)\n",
    "data=pd.concat([X,y],axis=\"columns\")\n",
    "data=data.sample(frac=1).reset_index(drop=True)\n",
    "X=data.iloc[:,0:58]\n",
    "y=data.iloc[:,58]"
   ]
  },
  {
   "cell_type": "markdown",
   "metadata": {},
   "source": [
    "############## LABEL ENCODING THE RESPONSE VARIABLES"
   ]
  },
  {
   "cell_type": "code",
   "execution_count": null,
   "metadata": {},
   "outputs": [],
   "source": [
    "le = preprocessing.LabelEncoder()\n",
    "y=le.fit_transform(y)"
   ]
  },
  {
   "cell_type": "markdown",
   "metadata": {},
   "source": [
    "############## SPLITTING THE DATA INTO TRAIN(95%) AND TEST(5%)"
   ]
  },
  {
   "cell_type": "code",
   "execution_count": 18,
   "metadata": {},
   "outputs": [
    {
     "name": "stdout",
     "output_type": "stream",
     "text": [
      "(1311, 40) (69, 40)\n"
     ]
    }
   ],
   "source": [
    "x_train,x_test,y_train,y_test=train_test_split(X, y, test_size=0.05, random_state=42)\n",
    "print((x_train.shape[0], x_test.shape[0]))\n",
    "print(f'Features extracted: {x_train.shape[1]}')"
   ]
  },
  {
   "cell_type": "markdown",
   "metadata": {},
   "source": [
    "################ Plot to find n_components"
   ]
  },
  {
   "cell_type": "code",
   "execution_count": 9,
   "metadata": {},
   "outputs": [
    {
     "data": {
      "image/png": "[encoded data removed]",
      "text/plain": [
       "<Figure size 432x288 with 1 Axes>"
      ]
     },
     "metadata": {
      "needs_background": "light"
     },
     "output_type": "display_data"
    }
   ],
   "source": [
    "\n",
    "pca = PCA()\n",
    "principalComponents = pca.fit_transform(x_train)\n",
    "#Plotting the Cumulative Summation of the Explained Variance\n",
    "plt.figure()\n",
    "plt.plot(np.cumsum(pca.explained_variance_ratio_ * 100))\n",
    "plt.xlabel('Number of Components')\n",
    "plt.ylabel('Variance (%)') #for each component\n",
    "plt.show()\n",
    "cumsum=np.cumsum(pca.explained_variance_ratio_ * 100)\n"
   ]
  },
  {
   "cell_type": "markdown",
   "metadata": {},
   "source": [
    "############## RESHAPING PREDICTORS"
   ]
  },
  {
   "cell_type": "code",
   "execution_count": 19,
   "metadata": {},
   "outputs": [
    {
     "name": "stdout",
     "output_type": "stream",
     "text": [
      "(1311, 40, 1)\n",
      "(69, 40, 1)\n"
     ]
    }
   ],
   "source": [
    "x_traincnn = np.expand_dims(x_train, axis=2)\n",
    "x_testcnn = np.expand_dims(x_test, axis=2)\n",
    "print(x_traincnn.shape)\n",
    "print(x_testcnn.shape)"
   ]
  },
  {
   "cell_type": "markdown",
   "metadata": {},
   "source": [
    "############## LABEL ENCODING THE RESPONSE VARIABLES AND CREATING DUMMIES"
   ]
  },
  {
   "cell_type": "code",
   "execution_count": 20,
   "metadata": {},
   "outputs": [
    {
     "name": "stdout",
     "output_type": "stream",
     "text": [
      "Features extracted: 40\n",
      "(1311, 8)\n",
      "(69, 8)\n"
     ]
    }
   ],
   "source": [
    "lb = LabelEncoder()\n",
    "y_train = np_utils.to_categorical(y_train)\n",
    "y_test = np_utils.to_categorical(y_test)\n",
    "print(y_train.shape)\n",
    "print(y_test.shape)"
   ]
  },
  {
   "cell_type": "markdown",
   "metadata": {},
   "source": [
    "############ 1D CNN #############"
   ]
  },
  {
   "cell_type": "code",
   "execution_count": 21,
   "metadata": {},
   "outputs": [],
   "source": [
    "model = Sequential()\n",
    "model.add(Conv1D(250, 3, padding='same',input_shape=(x_traincnn.shape[1],1)))\n",
    "model.add(Activation('relu'))\n",
    "model.add(Dropout(0.3))\n",
    "model.add(Conv1D(205, 5, padding='same'))\n",
    "model.add(Activation('relu'))\n",
    "model.add(Dropout(0.35))\n",
    "model.add(BatchNormalization())\n",
    "model.add(MaxPooling1D(pool_size=(8),strides=2))\n",
    "model.add(Conv1D(205, 7, padding='same'))\n",
    "model.add(Activation('relu'))\n",
    "model.add(Dropout(0.4))\n",
    "model.add(BatchNormalization())\n",
    "model.add(Conv1D(205, 7, padding='same'))\n",
    "model.add(Activation('relu'))\n",
    "model.add(Flatten())\n",
    "model.add(Dense(8))\n",
    "model.add(Activation('softmax'))\n",
    "opt =SGD(lr=0.01, momentum=0.0, decay=0.0, nesterov=False)"
   ]
  },
  {
   "cell_type": "markdown",
   "metadata": {},
   "source": [
    "#################### TRAINING THE MODEL"
   ]
  },
  {
   "cell_type": "code",
   "execution_count": 22,
   "metadata": {},
   "outputs": [
    {
     "name": "stdout",
     "output_type": "stream",
     "text": [
      "WARNING:tensorflow:From C:\\Users\\dbda\\Anaconda3\\lib\\site-packages\\keras\\optimizers.py:790: The name tf.train.Optimizer is deprecated. Please use tf.compat.v1.train.Optimizer instead.\n",
      "\n",
      "WARNING:tensorflow:From C:\\Users\\dbda\\Anaconda3\\lib\\site-packages\\keras\\backend\\tensorflow_backend.py:3295: The name tf.log is deprecated. Please use tf.math.log instead.\n",
      "\n",
      "WARNING:tensorflow:From C:\\Users\\dbda\\Anaconda3\\lib\\site-packages\\tensorflow_core\\python\\ops\\math_grad.py:1424: where (from tensorflow.python.ops.array_ops) is deprecated and will be removed in a future version.\n",
      "Instructions for updating:\n",
      "Use tf.where in 2.0, which has the same broadcast rule as np.where\n",
      "WARNING:tensorflow:From C:\\Users\\dbda\\Anaconda3\\lib\\site-packages\\keras\\backend\\tensorflow_backend.py:986: The name tf.assign_add is deprecated. Please use tf.compat.v1.assign_add instead.\n",
      "\n",
      "WARNING:tensorflow:From C:\\Users\\dbda\\Anaconda3\\lib\\site-packages\\keras\\backend\\tensorflow_backend.py:973: The name tf.assign is deprecated. Please use tf.compat.v1.assign instead.\n",
      "\n",
      "WARNING:tensorflow:From C:\\Users\\dbda\\Anaconda3\\lib\\site-packages\\keras\\backend\\tensorflow_backend.py:2741: The name tf.Session is deprecated. Please use tf.compat.v1.Session instead.\n",
      "\n",
      "Train on 1311 samples, validate on 69 samples\n",
      "Epoch 1/100\n",
      "WARNING:tensorflow:From C:\\Users\\dbda\\Anaconda3\\lib\\site-packages\\keras\\backend\\tensorflow_backend.py:174: The name tf.get_default_session is deprecated. Please use tf.compat.v1.get_default_session instead.\n",
      "\n",
      "WARNING:tensorflow:From C:\\Users\\dbda\\Anaconda3\\lib\\site-packages\\keras\\backend\\tensorflow_backend.py:181: The name tf.ConfigProto is deprecated. Please use tf.compat.v1.ConfigProto instead.\n",
      "\n",
      "WARNING:tensorflow:From C:\\Users\\dbda\\Anaconda3\\lib\\site-packages\\keras\\backend\\tensorflow_backend.py:190: The name tf.global_variables is deprecated. Please use tf.compat.v1.global_variables instead.\n",
      "\n",
      "WARNING:tensorflow:From C:\\Users\\dbda\\Anaconda3\\lib\\site-packages\\keras\\backend\\tensorflow_backend.py:199: The name tf.is_variable_initialized is deprecated. Please use tf.compat.v1.is_variable_initialized instead.\n",
      "\n",
      "WARNING:tensorflow:From C:\\Users\\dbda\\Anaconda3\\lib\\site-packages\\keras\\backend\\tensorflow_backend.py:206: The name tf.variables_initializer is deprecated. Please use tf.compat.v1.variables_initializer instead.\n",
      "\n",
      " - 5s - loss: 2.2560 - acc: 0.1640 - val_loss: 2.1664 - val_acc: 0.1594\n",
      "Epoch 2/100\n",
      " - 3s - loss: 2.1030 - acc: 0.2052 - val_loss: 2.2937 - val_acc: 0.1304\n",
      "Epoch 3/100\n",
      " - 4s - loss: 2.1027 - acc: 0.1899 - val_loss: 2.7394 - val_acc: 0.1304\n",
      "Epoch 4/100\n",
      " - 3s - loss: 2.0372 - acc: 0.2227 - val_loss: 2.7759 - val_acc: 0.1884\n",
      "Epoch 5/100\n",
      " - 4s - loss: 1.9709 - acc: 0.2479 - val_loss: 2.5662 - val_acc: 0.1159\n",
      "Epoch 6/100\n",
      " - 3s - loss: 1.9211 - acc: 0.2784 - val_loss: 2.3546 - val_acc: 0.1449\n",
      "Epoch 7/100\n",
      " - 4s - loss: 1.9270 - acc: 0.2662 - val_loss: 2.8714 - val_acc: 0.1884\n",
      "Epoch 8/100\n",
      " - 3s - loss: 1.8500 - acc: 0.2921 - val_loss: 2.5328 - val_acc: 0.1159\n",
      "Epoch 9/100\n",
      " - 3s - loss: 1.8310 - acc: 0.2960 - val_loss: 2.6847 - val_acc: 0.1449\n",
      "Epoch 10/100\n",
      " - 3s - loss: 1.8283 - acc: 0.3112 - val_loss: 2.7029 - val_acc: 0.1594\n",
      "Epoch 11/100\n",
      " - 4s - loss: 1.8135 - acc: 0.3196 - val_loss: 2.2856 - val_acc: 0.2174\n",
      "Epoch 12/100\n",
      " - 3s - loss: 1.7822 - acc: 0.3234 - val_loss: 2.3888 - val_acc: 0.1884\n",
      "Epoch 13/100\n",
      " - 3s - loss: 1.7519 - acc: 0.3341 - val_loss: 3.0089 - val_acc: 0.1304\n",
      "Epoch 14/100\n",
      " - 4s - loss: 1.7645 - acc: 0.3364 - val_loss: 2.6661 - val_acc: 0.1594\n",
      "Epoch 15/100\n",
      " - 4s - loss: 1.7195 - acc: 0.3593 - val_loss: 4.4925 - val_acc: 0.1159\n",
      "Epoch 16/100\n",
      " - 4s - loss: 1.7052 - acc: 0.3478 - val_loss: 2.3927 - val_acc: 0.2029\n",
      "Epoch 17/100\n",
      " - 4s - loss: 1.6947 - acc: 0.3600 - val_loss: 2.0791 - val_acc: 0.2174\n",
      "Epoch 18/100\n",
      " - 4s - loss: 1.6836 - acc: 0.3738 - val_loss: 2.1298 - val_acc: 0.1884\n",
      "Epoch 19/100\n",
      " - 3s - loss: 1.6559 - acc: 0.3837 - val_loss: 1.9369 - val_acc: 0.3478\n",
      "Epoch 20/100\n",
      " - 4s - loss: 1.6645 - acc: 0.3730 - val_loss: 1.8710 - val_acc: 0.3478\n",
      "Epoch 21/100\n",
      " - 4s - loss: 1.6001 - acc: 0.3928 - val_loss: 1.9437 - val_acc: 0.2899\n",
      "Epoch 22/100\n",
      " - 3s - loss: 1.5811 - acc: 0.3966 - val_loss: 2.4233 - val_acc: 0.2174\n",
      "Epoch 23/100\n",
      " - 4s - loss: 1.5668 - acc: 0.4027 - val_loss: 2.0141 - val_acc: 0.3768\n",
      "Epoch 24/100\n",
      " - 4s - loss: 1.5460 - acc: 0.4142 - val_loss: 2.0298 - val_acc: 0.2464\n",
      "Epoch 25/100\n",
      " - 4s - loss: 1.4880 - acc: 0.4394 - val_loss: 1.8125 - val_acc: 0.2899\n",
      "Epoch 26/100\n",
      " - 4s - loss: 1.5069 - acc: 0.4432 - val_loss: 1.8824 - val_acc: 0.2899\n",
      "Epoch 27/100\n",
      " - 4s - loss: 1.5086 - acc: 0.4355 - val_loss: 1.9847 - val_acc: 0.2174\n",
      "Epoch 28/100\n",
      " - 4s - loss: 1.4625 - acc: 0.4348 - val_loss: 1.7925 - val_acc: 0.3768\n",
      "Epoch 29/100\n",
      " - 4s - loss: 1.4149 - acc: 0.4676 - val_loss: 1.7415 - val_acc: 0.4203\n",
      "Epoch 30/100\n",
      " - 4s - loss: 1.4024 - acc: 0.4607 - val_loss: 1.9701 - val_acc: 0.3188\n",
      "Epoch 31/100\n",
      " - 4s - loss: 1.4298 - acc: 0.4622 - val_loss: 2.1528 - val_acc: 0.2464\n",
      "Epoch 32/100\n",
      " - 3s - loss: 1.3761 - acc: 0.4714 - val_loss: 1.7861 - val_acc: 0.2899\n",
      "Epoch 33/100\n",
      " - 4s - loss: 1.3580 - acc: 0.5042 - val_loss: 1.8360 - val_acc: 0.3188\n",
      "Epoch 34/100\n",
      " - 4s - loss: 1.3484 - acc: 0.5034 - val_loss: 1.7000 - val_acc: 0.3623\n",
      "Epoch 35/100\n",
      " - 3s - loss: 1.3291 - acc: 0.5072 - val_loss: 1.8829 - val_acc: 0.3188\n",
      "Epoch 36/100\n",
      " - 4s - loss: 1.3467 - acc: 0.5095 - val_loss: 1.8543 - val_acc: 0.3623\n",
      "Epoch 37/100\n",
      " - 3s - loss: 1.2884 - acc: 0.5149 - val_loss: 1.6855 - val_acc: 0.3333\n",
      "Epoch 38/100\n",
      " - 4s - loss: 1.2810 - acc: 0.5187 - val_loss: 1.8724 - val_acc: 0.3768\n",
      "Epoch 39/100\n",
      " - 3s - loss: 1.2499 - acc: 0.5225 - val_loss: 1.6589 - val_acc: 0.3768\n",
      "Epoch 40/100\n",
      " - 3s - loss: 1.2517 - acc: 0.5309 - val_loss: 1.6106 - val_acc: 0.3768\n",
      "Epoch 41/100\n",
      " - 3s - loss: 1.2355 - acc: 0.5515 - val_loss: 1.6836 - val_acc: 0.4058\n",
      "Epoch 42/100\n",
      " - 4s - loss: 1.2439 - acc: 0.5393 - val_loss: 1.6286 - val_acc: 0.4638\n",
      "Epoch 43/100\n",
      " - 4s - loss: 1.2342 - acc: 0.5385 - val_loss: 1.7368 - val_acc: 0.3913\n",
      "Epoch 44/100\n",
      " - 3s - loss: 1.1830 - acc: 0.5591 - val_loss: 1.9108 - val_acc: 0.3768\n",
      "Epoch 45/100\n",
      " - 4s - loss: 1.1735 - acc: 0.5599 - val_loss: 1.8166 - val_acc: 0.3333\n",
      "Epoch 46/100\n",
      " - 4s - loss: 1.1486 - acc: 0.5744 - val_loss: 1.7772 - val_acc: 0.3333\n",
      "Epoch 47/100\n",
      " - 3s - loss: 1.1575 - acc: 0.5667 - val_loss: 1.6760 - val_acc: 0.4203\n",
      "Epoch 48/100\n",
      " - 3s - loss: 1.1261 - acc: 0.5736 - val_loss: 1.7061 - val_acc: 0.3768\n",
      "Epoch 49/100\n",
      " - 4s - loss: 1.1205 - acc: 0.5782 - val_loss: 1.6254 - val_acc: 0.4493\n",
      "Epoch 50/100\n",
      " - 3s - loss: 1.1083 - acc: 0.5980 - val_loss: 1.6357 - val_acc: 0.4348\n",
      "Epoch 51/100\n",
      " - 4s - loss: 1.1208 - acc: 0.5828 - val_loss: 1.7185 - val_acc: 0.4058\n",
      "Epoch 52/100\n",
      " - 3s - loss: 1.0563 - acc: 0.6079 - val_loss: 1.5755 - val_acc: 0.4493\n",
      "Epoch 53/100\n",
      " - 4s - loss: 1.0497 - acc: 0.6003 - val_loss: 1.6881 - val_acc: 0.3913\n",
      "Epoch 54/100\n",
      " - 4s - loss: 1.0445 - acc: 0.6171 - val_loss: 1.5030 - val_acc: 0.4928\n",
      "Epoch 55/100\n",
      " - 4s - loss: 1.0385 - acc: 0.6194 - val_loss: 1.7258 - val_acc: 0.4203\n",
      "Epoch 56/100\n",
      " - 4s - loss: 0.9841 - acc: 0.6430 - val_loss: 1.6433 - val_acc: 0.4348\n",
      "Epoch 57/100\n",
      " - 3s - loss: 0.9887 - acc: 0.6255 - val_loss: 1.8415 - val_acc: 0.3478\n",
      "Epoch 58/100\n",
      " - 4s - loss: 0.9583 - acc: 0.6453 - val_loss: 1.6965 - val_acc: 0.4638\n",
      "Epoch 59/100\n",
      " - 3s - loss: 0.9609 - acc: 0.6438 - val_loss: 1.6931 - val_acc: 0.4783\n",
      "Epoch 60/100\n",
      " - 3s - loss: 0.9691 - acc: 0.6438 - val_loss: 1.6622 - val_acc: 0.4493\n",
      "Epoch 61/100\n",
      " - 3s - loss: 0.9415 - acc: 0.6568 - val_loss: 1.6861 - val_acc: 0.5217\n",
      "Epoch 62/100\n",
      " - 3s - loss: 0.8765 - acc: 0.6789 - val_loss: 1.6611 - val_acc: 0.4638\n",
      "Epoch 63/100\n",
      " - 3s - loss: 0.9314 - acc: 0.6560 - val_loss: 1.7313 - val_acc: 0.4203\n",
      "Epoch 64/100\n",
      " - 3s - loss: 0.8647 - acc: 0.6758 - val_loss: 1.6479 - val_acc: 0.4348\n",
      "Epoch 65/100\n",
      " - 3s - loss: 0.8877 - acc: 0.6728 - val_loss: 1.7417 - val_acc: 0.5072\n",
      "Epoch 66/100\n",
      " - 3s - loss: 0.8744 - acc: 0.6934 - val_loss: 1.5074 - val_acc: 0.4638\n",
      "Epoch 67/100\n",
      " - 4s - loss: 0.8597 - acc: 0.6888 - val_loss: 1.6140 - val_acc: 0.5507\n",
      "Epoch 68/100\n",
      " - 3s - loss: 0.8338 - acc: 0.6949 - val_loss: 1.6953 - val_acc: 0.4783\n",
      "Epoch 69/100\n",
      " - 3s - loss: 0.7959 - acc: 0.6995 - val_loss: 1.6612 - val_acc: 0.4638\n",
      "Epoch 70/100\n",
      " - 3s - loss: 0.8205 - acc: 0.7025 - val_loss: 1.8606 - val_acc: 0.4058\n"
     ]
    },
    {
     "name": "stdout",
     "output_type": "stream",
     "text": [
      "Epoch 71/100\n",
      " - 4s - loss: 0.8104 - acc: 0.7063 - val_loss: 1.7855 - val_acc: 0.4493\n",
      "Epoch 72/100\n",
      " - 3s - loss: 0.7684 - acc: 0.7323 - val_loss: 2.0140 - val_acc: 0.4058\n",
      "Epoch 73/100\n",
      " - 4s - loss: 0.6956 - acc: 0.7551 - val_loss: 1.7005 - val_acc: 0.4058\n",
      "Epoch 74/100\n",
      " - 4s - loss: 0.7346 - acc: 0.7201 - val_loss: 1.6653 - val_acc: 0.5217\n",
      "Epoch 75/100\n",
      " - 4s - loss: 0.7159 - acc: 0.7429 - val_loss: 1.7120 - val_acc: 0.5072\n",
      "Epoch 76/100\n",
      " - 3s - loss: 0.7375 - acc: 0.7346 - val_loss: 1.7753 - val_acc: 0.5217\n",
      "Epoch 77/100\n",
      " - 3s - loss: 0.7101 - acc: 0.7437 - val_loss: 1.6439 - val_acc: 0.4928\n",
      "Epoch 78/100\n",
      " - 4s - loss: 0.6959 - acc: 0.7506 - val_loss: 1.8019 - val_acc: 0.4638\n",
      "Epoch 79/100\n",
      " - 4s - loss: 0.7117 - acc: 0.7429 - val_loss: 1.8810 - val_acc: 0.4058\n",
      "Epoch 80/100\n",
      " - 4s - loss: 0.6627 - acc: 0.7689 - val_loss: 1.7263 - val_acc: 0.4928\n",
      "Epoch 81/100\n",
      " - 3s - loss: 0.6859 - acc: 0.7490 - val_loss: 1.5887 - val_acc: 0.5072\n",
      "Epoch 82/100\n",
      " - 3s - loss: 0.6680 - acc: 0.7666 - val_loss: 1.6904 - val_acc: 0.4928\n",
      "Epoch 83/100\n",
      " - 3s - loss: 0.6578 - acc: 0.7620 - val_loss: 1.6279 - val_acc: 0.5217\n",
      "Epoch 84/100\n",
      " - 4s - loss: 0.6366 - acc: 0.7727 - val_loss: 1.6009 - val_acc: 0.4783\n",
      "Epoch 85/100\n",
      " - 3s - loss: 0.6195 - acc: 0.7803 - val_loss: 1.7022 - val_acc: 0.5362\n",
      "Epoch 86/100\n",
      " - 3s - loss: 0.6077 - acc: 0.7979 - val_loss: 1.7291 - val_acc: 0.4783\n",
      "Epoch 87/100\n",
      " - 4s - loss: 0.6343 - acc: 0.7674 - val_loss: 1.6150 - val_acc: 0.5217\n",
      "Epoch 88/100\n",
      " - 4s - loss: 0.5581 - acc: 0.8070 - val_loss: 1.5849 - val_acc: 0.4638\n",
      "Epoch 89/100\n",
      " - 4s - loss: 0.5472 - acc: 0.8124 - val_loss: 1.8357 - val_acc: 0.4783\n",
      "Epoch 90/100\n",
      " - 4s - loss: 0.6005 - acc: 0.7994 - val_loss: 1.7550 - val_acc: 0.4783\n",
      "Epoch 91/100\n",
      " - 4s - loss: 0.5766 - acc: 0.7918 - val_loss: 1.6242 - val_acc: 0.5362\n",
      "Epoch 92/100\n",
      " - 4s - loss: 0.5466 - acc: 0.8177 - val_loss: 1.7117 - val_acc: 0.5072\n",
      "Epoch 93/100\n",
      " - 3s - loss: 0.5465 - acc: 0.8040 - val_loss: 1.7170 - val_acc: 0.5072\n",
      "Epoch 94/100\n",
      " - 4s - loss: 0.5019 - acc: 0.8330 - val_loss: 1.7128 - val_acc: 0.4928\n",
      "Epoch 95/100\n",
      " - 4s - loss: 0.5387 - acc: 0.8124 - val_loss: 1.6350 - val_acc: 0.5362\n",
      "Epoch 96/100\n",
      " - 4s - loss: 0.4882 - acc: 0.8330 - val_loss: 1.8463 - val_acc: 0.5507\n",
      "Epoch 97/100\n",
      " - 3s - loss: 0.5002 - acc: 0.8223 - val_loss: 1.7213 - val_acc: 0.4928\n",
      "Epoch 98/100\n",
      " - 3s - loss: 0.4611 - acc: 0.8474 - val_loss: 1.8148 - val_acc: 0.4928\n",
      "Epoch 99/100\n",
      " - 4s - loss: 0.4845 - acc: 0.8360 - val_loss: 1.7684 - val_acc: 0.5507\n",
      "Epoch 100/100\n",
      " - 4s - loss: 0.4432 - acc: 0.8551 - val_loss: 1.6527 - val_acc: 0.5507\n"
     ]
    },
    {
     "data": {
      "text/plain": [
       "<keras.callbacks.History at 0x1ac91d08>"
      ]
     },
     "execution_count": 22,
     "metadata": {},
     "output_type": "execute_result"
    }
   ],
   "source": [
    "model.compile(optimizer=opt, loss='categorical_crossentropy',metrics=['accuracy'])\n",
    "model.fit(x_traincnn,y_train,validation_data=(x_testcnn,y_test),verbose=2,epochs=100)"
   ]
  },
  {
   "cell_type": "markdown",
   "metadata": {},
   "source": [
    "#################### PREDICTION ON TEST SET"
   ]
  },
  {
   "cell_type": "code",
   "execution_count": 23,
   "metadata": {},
   "outputs": [
    {
     "data": {
      "text/plain": [
       "(69, 8)"
      ]
     },
     "execution_count": 23,
     "metadata": {},
     "output_type": "execute_result"
    }
   ],
   "source": [
    "y_pred_prob = model.predict(x_testcnn)\n",
    "y_pred_prob.shape"
   ]
  },
  {
   "cell_type": "code",
   "execution_count": 24,
   "metadata": {},
   "outputs": [
    {
     "name": "stdout",
     "output_type": "stream",
     "text": [
      "Test loss = 1.6527 \n",
      "Test acc = 0.5507 \n"
     ]
    }
   ],
   "source": [
    "loss, acc = model.evaluate(x_testcnn, y_test,verbose=0)\n",
    "\n",
    "print('Test loss = {:.4f} '.format(loss))\n",
    "print('Test acc = {:.4f} '.format(acc))"
   ]
  },
  {
   "cell_type": "markdown",
   "metadata": {},
   "source": [
    "############# SAVING THE MODEL"
   ]
  },
  {
   "cell_type": "code",
   "execution_count": null,
   "metadata": {},
   "outputs": [],
   "source": [
    "import pickle\n",
    "pickle.dump(model, open(\"C:\\\\Users\\\\dbda\\\\Desktop\\\\project\\\\PCA_CNN.pkl\", 'wb'))\n",
    "print(\"Model Saved!!\")"
   ]
  },
  {
   "cell_type": "markdown",
   "metadata": {},
   "source": [
    "#################### Prediction on unseen data"
   ]
  },
  {
   "cell_type": "code",
   "execution_count": 35,
   "metadata": {},
   "outputs": [],
   "source": [
    "\n",
    "def load_test_data():\n",
    "    x_test,y_test=[],[]\n",
    "    \n",
    "    #file=\"F:\\\\speech_project\\\\UnSeenSet\\\\*.wav\"\n",
    "    for file in glob.glob(\"F:\\\\speech_project\\\\UnSeenSet\\\\*.wav\"):\n",
    "        file_name=os.path.basename(file)\n",
    "        emotion=emotions[file_name.split(\"-\")[2]]\n",
    "        feature=extract_feature(file, mfcc=True, chroma=True,spectral_centroid=True,spectral_bandwidth=True,\n",
    "                                spectral_rolloff=True,spectral_contrast=True,rms=True,spectral_flatness=True)\n",
    "        x_test.append(feature)\n",
    "        y_test.append(emotion)\n",
    "    # Create scaler: scaler\n",
    "    scaler = MinMaxScaler()\n",
    "    x_test=scaler.fit_transform(x_test)\n",
    "    x_test=pd.DataFrame(x_test)\n",
    "    ############  n_components=40\n",
    "    pca = PCA(n_components=20)\n",
    "    x_test = pca.fit_transform(x_test)\n",
    "    return x_test,y_test"
   ]
  },
  {
   "cell_type": "code",
   "execution_count": 34,
   "metadata": {},
   "outputs": [
    {
     "data": {
      "image/png": "[encoded data removed]",
      "text/plain": [
       "<Figure size 432x288 with 1 Axes>"
      ]
     },
     "metadata": {
      "needs_background": "light"
     },
     "output_type": "display_data"
    }
   ],
   "source": [
    "\n",
    "pca = PCA()\n",
    "principalComponents = pca.fit_transform(X_test_data)\n",
    "#Plotting the Cumulative Summation of the Explained Variance\n",
    "plt.figure()\n",
    "plt.plot(np.cumsum(pca.explained_variance_ratio_ * 100))\n",
    "plt.xlabel('Number of Components')\n",
    "plt.ylabel('Variance (%)') #for each component\n",
    "plt.show()\n",
    "cumsum=np.cumsum(pca.explained_variance_ratio_ * 100)"
   ]
  },
  {
   "cell_type": "code",
   "execution_count": 39,
   "metadata": {},
   "outputs": [
    {
     "name": "stdout",
     "output_type": "stream",
     "text": [
      "24\n",
      "(24, 20)\n"
     ]
    }
   ],
   "source": [
    "X_test_data,y_test_data=load_test_data()\n",
    "print(len(y_test_data))\n",
    "print(X_test_data.shape)"
   ]
  },
  {
   "cell_type": "code",
   "execution_count": 37,
   "metadata": {},
   "outputs": [
    {
     "name": "stdout",
     "output_type": "stream",
     "text": [
      "(24, 20, 1)\n"
     ]
    }
   ],
   "source": [
    "############## RESHAPING PREDICTORS\n",
    "\n",
    "X_test_data = np.expand_dims(X_test_data, axis=2)\n",
    "print(X_test_data.shape)"
   ]
  },
  {
   "cell_type": "markdown",
   "metadata": {},
   "source": [
    "########### LOADING SAVED MODEL"
   ]
  },
  {
   "cell_type": "code",
   "execution_count": null,
   "metadata": {},
   "outputs": [],
   "source": [
    "import pickle\n",
    "loaded_model = pickle.load(open(\"C:\\\\Users\\\\dbda\\\\Desktop\\\\project\\\\PCA_CNN.pkl\", 'rb'))\n",
    "result = loaded_model.predict_classes(X_test_data)\n",
    "print(result)"
   ]
  },
  {
   "cell_type": "code",
   "execution_count": null,
   "metadata": {},
   "outputs": [],
   "source": [
    "print(le.inverse_transform(result))"
   ]
  }
 ],
 "metadata": {
  "kernelspec": {
   "display_name": "Python 3",
   "language": "python",
   "name": "python3"
  },
  "language_info": {
   "codemirror_mode": {
    "name": "ipython",
    "version": 3
   },
   "file_extension": ".py",
   "mimetype": "text/x-python",
   "name": "python",
   "nbconvert_exporter": "python",
   "pygments_lexer": "ipython3",
   "version": "3.7.4"
  }
 },
 "nbformat": 4,
 "nbformat_minor": 2
}
