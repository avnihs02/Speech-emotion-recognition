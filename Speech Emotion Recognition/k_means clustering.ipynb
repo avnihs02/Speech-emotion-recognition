{
 "cells": [
  {
   "cell_type": "code",
   "execution_count": null,
   "metadata": {},
   "outputs": [],
   "source": [
    "import librosa\n",
    "import soundfile\n",
    "import os, glob\n",
    "import pandas as pd\n",
    "import numpy as np\n",
    "from sklearn.model_selection import train_test_split\n",
    "from sklearn.neural_network import MLPClassifier\n",
    "from sklearn.metrics import accuracy_score\n",
    "from xgboost import XGBClassifier\n",
    "from sklearn import preprocessing \n",
    "from sklearn.metrics import roc_auc_score"
   ]
  },
  {
   "cell_type": "markdown",
   "metadata": {},
   "source": [
    "# Emotions in the dataset"
   ]
  },
  {
   "cell_type": "markdown",
   "metadata": {},
   "source": [
    "\n",
    "\n",
    "emotions={\n",
    "  '01':'neutral',\n",
    "  '02':'calm',\n",
    "  '03':'happy',\n",
    "  '04':'sad',\n",
    "  '05':'angry',\n",
    "  '06':'fearful',\n",
    "  '07':'disgust',\n",
    "  '08':'surprised'\n",
    "}"
   ]
  },
  {
   "cell_type": "markdown",
   "metadata": {},
   "source": [
    "# Audio Feature extraction "
   ]
  },
  {
   "cell_type": "code",
   "execution_count": 19,
   "metadata": {},
   "outputs": [],
   "source": [
    "def extract_feature(file_name, mfcc, chroma,spectral_centroid,spectral_bandwidth,spectral_rolloff,spectral_contrast,rms,spectral_flatness):\n",
    "    with soundfile.SoundFile(file_name) as sound_file:\n",
    "        X = sound_file.read(dtype=\"float32\")\n",
    "        sample_rate=sound_file.samplerate\n",
    "        if chroma:\n",
    "            stft=np.abs(librosa.stft(X))\n",
    "        result=np.array([])\n",
    "        if mfcc:\n",
    "            mfccs=np.mean(librosa.feature.mfcc(y=X, sr=sample_rate, n_mfcc=40).T, axis=0)\n",
    "            result=np.hstack((result, mfccs))\n",
    "            \n",
    "            \n",
    "        if chroma:\n",
    "            chroma=np.mean(librosa.feature.chroma_stft(S=stft, sr=sample_rate).T,axis=0)\n",
    "            result=np.hstack((result, chroma))             \n",
    "           \n",
    "            \n",
    "        if spectral_centroid:\n",
    "            spectral_centroid=np.mean(librosa.feature.spectral_centroid(y=X, sr=sample_rate))\n",
    "            result=np.hstack((result, spectral_centroid)) \n",
    "        \n",
    "        if spectral_bandwidth:\n",
    "           spectral_bandwidth=np.mean(librosa.feature.spectral_bandwidth(y=X, sr=sample_rate).T)\n",
    "#           print(spectral_bandwidth)\n",
    "           result=np.hstack((result, spectral_bandwidth)) \n",
    "           \n",
    "        if spectral_rolloff:\n",
    "           spectral_rolloff=np.mean(librosa.feature.spectral_rolloff(y=X, sr=sample_rate).T)\n",
    "#           print(spectral_rolloff)\n",
    "           result=np.hstack((result, spectral_rolloff))\n",
    "        \n",
    "        if spectral_contrast:\n",
    "           spectral_contrast=np.mean(librosa.feature.spectral_contrast(y=X, sr=sample_rate))\n",
    "           result=np.hstack((result, spectral_contrast))\n",
    "           \n",
    "        if rms:\n",
    "           rms=np.mean(librosa.feature.rms(y=X).T,axis=0)\n",
    "           result=np.hstack((result, rms))\n",
    "           \n",
    "        if spectral_flatness:\n",
    "           spectral_flatness=np.mean(librosa.feature.spectral_flatness(y=X))\n",
    "           result=np.hstack((result, spectral_flatness))\n",
    "        \n",
    "        return result"
   ]
  },
  {
   "cell_type": "markdown",
   "metadata": {},
   "source": [
    "# feature extraction from audio files"
   ]
  },
  {
   "cell_type": "code",
   "execution_count": 13,
   "metadata": {},
   "outputs": [],
   "source": [
    "################### feature extraction by calling the files ############################\n",
    "\n",
    "def load_data():\n",
    "    X,y=[],[]\n",
    "    for file in glob.glob(\"D:\\\\DBDA\\\\speech-emotion-recognition-ravdess-data\\\\Actor_*\\\\*.wav\"):\n",
    "        file_name=os.path.basename(file)\n",
    "        emotion=emotions[file_name.split(\"-\")[2]]\n",
    "        feature=extract_feature(file, mfcc=True, chroma=True,spectral_centroid=True,spectral_bandwidth=True,spectral_rolloff=True,spectral_contrast=True,rms=True,spectral_flatness=True)\n",
    "        X.append(feature)\n",
    "        y.append(emotion)\n",
    "        \n",
    "    return X,y"
   ]
  },
  {
   "cell_type": "markdown",
   "metadata": {},
   "source": [
    "# Data Preprocessing"
   ]
  },
  {
   "cell_type": "markdown",
   "metadata": {},
   "source": [
    "\n",
    "X_audio,y_emotions=load_data()\n",
    "\n",
    "features=[]\n",
    "for i in range(1,59) :\n",
    "    features.append(\"feat\"+str(i))    \n",
    "\n",
    "\n",
    "le = preprocessing.LabelEncoder()\n",
    "y1=le.fit_transform(y_emotions)\n",
    "\n",
    "\n",
    "X1=pd.DataFrame(X_audio,columns=features)\n",
    "y=pd.DataFrame(y1,columns=[\"emotions\"])\n",
    "X=X1.drop([\"feat1\"],axis=1)\n",
    "x_train,x_test,y_train,y_test = train_test_split(X,y,test_size=0.1, random_state=2019,stratify=y) \n",
    "\n",
    "from sklearn.preprocessing import MinMaxScaler\n",
    "\n",
    "scaler = MinMaxScaler()\n",
    "x_train_scaled=scaler.fit_transform(x_train)\n",
    "x_train_scaled = pd.DataFrame(x_train_scaled,index=x_train.index,columns=x_train.columns)\n",
    "\n"
   ]
  },
  {
   "cell_type": "markdown",
   "metadata": {},
   "source": [
    "# Scree Plot to decide number of clusters"
   ]
  },
  {
   "cell_type": "code",
   "execution_count": 18,
   "metadata": {
    "scrolled": true
   },
   "outputs": [
    {
     "data": {
      "image/png": "[encoded data removed]",
      "text/plain": [
       "<Figure size 432x288 with 1 Axes>"
      ]
     },
     "metadata": {
      "needs_background": "light"
     },
     "output_type": "display_data"
    }
   ],
   "source": [
    "\n",
    "######################################## scree plot to determine number of clusters #########################\n",
    "\n",
    "\n",
    "from sklearn.cluster import MiniBatchKMeans\n",
    "\n",
    "clustNos = [2,3,4,5,6,7,8]\n",
    "Inertia = []\n",
    "\n",
    "for i in clustNos :\n",
    "    model = MiniBatchKMeans(n_clusters=i,random_state=2019)\n",
    "    model.fit(x_train_scaled)\n",
    "    Inertia.append(model.inertia_)\n",
    "    \n",
    "# Import pyplot\n",
    "import matplotlib.pyplot as plt\n",
    "\n",
    "plt.plot(clustNos, Inertia, '-o')\n",
    "plt.title(\"Scree Plot\")\n",
    "plt.xlabel('Number of clusters, k')\n",
    "plt.ylabel('Inertia')\n",
    "plt.xticks(clustNos)\n",
    "plt.show()\n"
   ]
  },
  {
   "cell_type": "markdown",
   "metadata": {},
   "source": [
    "# training K means clusering for K=3"
   ]
  },
  {
   "cell_type": "code",
   "execution_count": 20,
   "metadata": {
    "scrolled": true
   },
   "outputs": [
    {
     "name": "stdout",
     "output_type": "stream",
     "text": [
      "(337, 59)\n",
      "(425, 59)\n",
      "(480, 59)\n"
     ]
    }
   ],
   "source": [
    "model_km= MiniBatchKMeans(n_clusters=3,random_state=2019,n_init=20)\n",
    "model_km.fit(x_train_scaled)\n",
    "ClusterID = model_km.predict(x_train_scaled)\n",
    "ClusterID = pd.DataFrame(ClusterID,index=x_train.index,columns=[\"Cluster\"])\n",
    "Clust_x_train = pd.concat([ClusterID,y_train,x_train],axis=\"columns\")\n",
    "\n",
    "Clust0 = Clust_x_train[Clust_x_train['Cluster']==0]\n",
    "Clust1 = Clust_x_train[Clust_x_train['Cluster']==1]\n",
    "Clust2 = Clust_x_train[Clust_x_train['Cluster']==2]\n",
    "\n",
    "\n",
    "print(Clust0.shape)\n",
    "print(Clust1.shape)\n",
    "print(Clust2.shape)"
   ]
  },
  {
   "cell_type": "markdown",
   "metadata": {},
   "source": [
    "#   applying Supervised Learning models on each clusters"
   ]
  },
  {
   "cell_type": "code",
   "execution_count": 24,
   "metadata": {},
   "outputs": [],
   "source": [
    "###################################  train cluster 0 ##################################\n",
    "\n",
    "from sklearn.ensemble import GradientBoostingClassifier\n",
    "\n",
    "Clust0[\"emotions\"].value_counts()\n",
    "X0 = Clust0.iloc[:,2:]\n",
    "y0 = Clust0[\"emotions\"]\n",
    "\n",
    "X0_train, X0_test, y0_train, y0_test = train_test_split(X0, y0, test_size = 0.2,                                                  random_state=2019,\n",
    "                                                   stratify=y0)"
   ]
  },
  {
   "cell_type": "markdown",
   "metadata": {},
   "source": [
    "# Training Cluster 0 with GradientBoosting"
   ]
  },
  {
   "cell_type": "code",
   "execution_count": 25,
   "metadata": {},
   "outputs": [],
   "source": [
    "############################### scaling the input data ####################\n",
    "\n",
    "from sklearn.preprocessing import MinMaxScaler\n",
    "scaler = MinMaxScaler()\n",
    "X0_train_scaled=scaler.fit_transform(X0_train)\n",
    "\n",
    "X0_train_scaled = pd.DataFrame(X0_train_scaled,\n",
    "                          columns=X0_train.columns,\n",
    "                          index=X0_train.index)\n",
    "\n"
   ]
  },
  {
   "cell_type": "code",
   "execution_count": null,
   "metadata": {
    "scrolled": false
   },
   "outputs": [],
   "source": [
    " ############## set tuning parameters #####################\n",
    "    \n",
    "lr_range = np.linspace(0.001,1,30)\n",
    "n_est_range = np.arange(10,200,20)\n",
    "depth_range = np.arange(5,50,5)\n",
    "minleaf_range = np.arange(10,50,10)\n",
    "\n",
    "parameters = dict(learning_rate=lr_range,              \n",
    "                  max_depth=depth_range,\n",
    "                  min_samples_leaf=minleaf_range)\n",
    "\n",
    "from sklearn.model_selection import StratifiedKFold\n",
    "from sklearn.model_selection import RandomizedSearchCV,GridSearchCV\n",
    "\n",
    "kfold = StratifiedKFold(n_splits=5, random_state=42)\n",
    "clf = GradientBoostingClassifier(random_state=2019)\n",
    "gb0 = RandomizedSearchCV(clf, param_distributions=parameters,cv=kfold,scoring='neg_log_loss',verbose=3,n_jobs=-1)\n",
    "gb0.fit(X0_train,y0_train)\n",
    "X0_test.reset_index(drop=True)\n",
    "y0_pred0_proba_gb=gb0.predict_proba(X0_test)\n",
    "\n",
    "    \n",
    "print(\"ROC_auc_score for Gradient Boost:\\n\",roc_auc_score(y0_test, y0_pred0_proba_gb,multi_class='ovr'))\n",
    "\n",
    "print(gb0.best_params_)\n",
    "\n",
    "print(\"loss for Gradient Boost Model\",gb0.best_score_)\n",
    "\n",
    "\n",
    "#print(y0_test.value_counts())\n",
    "#print(y0_pred0_proba_gb)\n"
   ]
  },
  {
   "cell_type": "markdown",
   "metadata": {},
   "source": [
    "# Training Cluster 0 with Random forest"
   ]
  },
  {
   "cell_type": "code",
   "execution_count": 27,
   "metadata": {},
   "outputs": [
    {
     "name": "stdout",
     "output_type": "stream",
     "text": [
      "Fitting 5 folds for each of 100 candidates, totalling 500 fits\n"
     ]
    },
    {
     "name": "stderr",
     "output_type": "stream",
     "text": [
      "[Parallel(n_jobs=-1)]: Using backend LokyBackend with 16 concurrent workers.\n",
      "[Parallel(n_jobs=-1)]: Done 256 tasks      | elapsed:    5.5s\n",
      "[Parallel(n_jobs=-1)]: Done 429 tasks      | elapsed:    9.4s\n",
      "[Parallel(n_jobs=-1)]: Done 500 out of 500 | elapsed:   10.7s finished\n"
     ]
    },
    {
     "name": "stdout",
     "output_type": "stream",
     "text": [
      "{'n_estimators': 170, 'min_samples_split': 15, 'min_samples_leaf': 10, 'max_features': 51, 'max_depth': 10}\n",
      "-1.5618877510103588\n",
      "ROC_AUC rf 0.8043857854147589\n"
     ]
    }
   ],
   "source": [
    "################### Random Forest ###############\n",
    "\n",
    "n_est_range = np.arange(10,200,20)\n",
    "depth_range = np.arange(5,50,5)\n",
    "max_feat_range = np.arange(20,52)\n",
    "minleaf_range = np.arange(10,50,10)\n",
    "minsplit_range = np.arange(5,50,5)\n",
    "\n",
    "parameters = dict(n_estimators=n_est_range,\n",
    "                  max_depth=depth_range,\n",
    "                  min_samples_split=minsplit_range,\n",
    "                  min_samples_leaf=minleaf_range,\n",
    "                  max_features=max_feat_range)\n",
    "\n",
    "from sklearn.ensemble import RandomForestClassifier\n",
    "model_rf = RandomForestClassifier(random_state=2019)\n",
    "\n",
    "rf0 = RandomizedSearchCV(model_rf, param_distributions =parameters,\n",
    "                  cv=kfold,scoring='neg_log_loss',verbose=3,n_iter=100,n_jobs=-1)\n",
    "\n",
    "rf0.fit(X0_train,y0_train)\n",
    "\n",
    "\n",
    "print(rf0.best_params_)\n",
    "\n",
    "print(rf0.best_score_)\n",
    "\n",
    "y_pred0_proba_RF=rf0.predict_proba(X0_test)\n",
    "\n",
    "print(\"ROC_AUC rf\",roc_auc_score(y0_test, y_pred0_proba_RF, multi_class='ovr'))   \n",
    "\n",
    "\n",
    "#ROC_AUC rf 0.8043857854147589"
   ]
  },
  {
   "cell_type": "markdown",
   "metadata": {},
   "source": [
    "# Training Cluster 0 with XGBoost"
   ]
  },
  {
   "cell_type": "code",
   "execution_count": 28,
   "metadata": {},
   "outputs": [
    {
     "name": "stdout",
     "output_type": "stream",
     "text": [
      "Fitting 5 folds for each of 10 candidates, totalling 50 fits\n",
      "[CV] n_estimators=120, max_depth=8, learning_rate=0.001 ..............\n"
     ]
    },
    {
     "name": "stderr",
     "output_type": "stream",
     "text": [
      "[Parallel(n_jobs=1)]: Using backend SequentialBackend with 1 concurrent workers.\n"
     ]
    },
    {
     "name": "stdout",
     "output_type": "stream",
     "text": [
      "[CV]  n_estimators=120, max_depth=8, learning_rate=0.001, score=-2.029, total=   2.0s\n",
      "[CV] n_estimators=120, max_depth=8, learning_rate=0.001 ..............\n"
     ]
    },
    {
     "name": "stderr",
     "output_type": "stream",
     "text": [
      "[Parallel(n_jobs=1)]: Done   1 out of   1 | elapsed:    1.9s remaining:    0.0s\n"
     ]
    },
    {
     "name": "stdout",
     "output_type": "stream",
     "text": [
      "[CV]  n_estimators=120, max_depth=8, learning_rate=0.001, score=-2.034, total=   2.0s\n",
      "[CV] n_estimators=120, max_depth=8, learning_rate=0.001 ..............\n"
     ]
    },
    {
     "name": "stderr",
     "output_type": "stream",
     "text": [
      "[Parallel(n_jobs=1)]: Done   2 out of   2 | elapsed:    3.9s remaining:    0.0s\n"
     ]
    },
    {
     "name": "stdout",
     "output_type": "stream",
     "text": [
      "[CV]  n_estimators=120, max_depth=8, learning_rate=0.001, score=-1.984, total=   1.9s\n",
      "[CV] n_estimators=120, max_depth=8, learning_rate=0.001 ..............\n",
      "[CV]  n_estimators=120, max_depth=8, learning_rate=0.001, score=-2.029, total=   1.9s\n",
      "[CV] n_estimators=120, max_depth=8, learning_rate=0.001 ..............\n",
      "[CV]  n_estimators=120, max_depth=8, learning_rate=0.001, score=-1.988, total=   1.9s\n",
      "[CV] n_estimators=150, max_depth=10, learning_rate=0.1 ...............\n",
      "[CV]  n_estimators=150, max_depth=10, learning_rate=0.1, score=-1.557, total=   1.4s\n",
      "[CV] n_estimators=150, max_depth=10, learning_rate=0.1 ...............\n",
      "[CV]  n_estimators=150, max_depth=10, learning_rate=0.1, score=-1.622, total=   1.4s\n",
      "[CV] n_estimators=150, max_depth=10, learning_rate=0.1 ...............\n",
      "[CV]  n_estimators=150, max_depth=10, learning_rate=0.1, score=-1.296, total=   1.5s\n",
      "[CV] n_estimators=150, max_depth=10, learning_rate=0.1 ...............\n",
      "[CV]  n_estimators=150, max_depth=10, learning_rate=0.1, score=-1.702, total=   1.5s\n",
      "[CV] n_estimators=150, max_depth=10, learning_rate=0.1 ...............\n",
      "[CV]  n_estimators=150, max_depth=10, learning_rate=0.1, score=-1.302, total=   1.5s\n",
      "[CV] n_estimators=150, max_depth=10, learning_rate=0.2 ...............\n",
      "[CV]  n_estimators=150, max_depth=10, learning_rate=0.2, score=-1.563, total=   1.1s\n",
      "[CV] n_estimators=150, max_depth=10, learning_rate=0.2 ...............\n",
      "[CV]  n_estimators=150, max_depth=10, learning_rate=0.2, score=-1.665, total=   1.0s\n",
      "[CV] n_estimators=150, max_depth=10, learning_rate=0.2 ...............\n",
      "[CV]  n_estimators=150, max_depth=10, learning_rate=0.2, score=-1.328, total=   1.0s\n",
      "[CV] n_estimators=150, max_depth=10, learning_rate=0.2 ...............\n",
      "[CV]  n_estimators=150, max_depth=10, learning_rate=0.2, score=-1.778, total=   1.0s\n",
      "[CV] n_estimators=150, max_depth=10, learning_rate=0.2 ...............\n",
      "[CV]  n_estimators=150, max_depth=10, learning_rate=0.2, score=-1.339, total=   1.1s\n",
      "[CV] n_estimators=10, max_depth=10, learning_rate=0.01 ...............\n",
      "[CV]  n_estimators=10, max_depth=10, learning_rate=0.01, score=-2.035, total=   0.2s\n",
      "[CV] n_estimators=10, max_depth=10, learning_rate=0.01 ...............\n",
      "[CV]  n_estimators=10, max_depth=10, learning_rate=0.01, score=-2.040, total=   0.2s\n",
      "[CV] n_estimators=10, max_depth=10, learning_rate=0.01 ...............\n",
      "[CV]  n_estimators=10, max_depth=10, learning_rate=0.01, score=-1.999, total=   0.2s\n",
      "[CV] n_estimators=10, max_depth=10, learning_rate=0.01 ...............\n",
      "[CV]  n_estimators=10, max_depth=10, learning_rate=0.01, score=-2.035, total=   0.2s\n",
      "[CV] n_estimators=10, max_depth=10, learning_rate=0.01 ...............\n",
      "[CV]  n_estimators=10, max_depth=10, learning_rate=0.01, score=-2.002, total=   0.2s\n",
      "[CV] n_estimators=20, max_depth=4, learning_rate=0.3 .................\n",
      "[CV]  n_estimators=20, max_depth=4, learning_rate=0.3, score=-1.519, total=   0.2s\n",
      "[CV] n_estimators=20, max_depth=4, learning_rate=0.3 .................\n",
      "[CV]  n_estimators=20, max_depth=4, learning_rate=0.3, score=-1.619, total=   0.2s\n",
      "[CV] n_estimators=20, max_depth=4, learning_rate=0.3 .................\n",
      "[CV]  n_estimators=20, max_depth=4, learning_rate=0.3, score=-1.364, total=   0.2s\n",
      "[CV] n_estimators=20, max_depth=4, learning_rate=0.3 .................\n",
      "[CV]  n_estimators=20, max_depth=4, learning_rate=0.3, score=-1.664, total=   0.2s\n",
      "[CV] n_estimators=20, max_depth=4, learning_rate=0.3 .................\n",
      "[CV]  n_estimators=20, max_depth=4, learning_rate=0.3, score=-1.393, total=   0.2s\n",
      "[CV] n_estimators=20, max_depth=8, learning_rate=0.3 .................\n",
      "[CV]  n_estimators=20, max_depth=8, learning_rate=0.3, score=-1.606, total=   0.3s\n",
      "[CV] n_estimators=20, max_depth=8, learning_rate=0.3 .................\n",
      "[CV]  n_estimators=20, max_depth=8, learning_rate=0.3, score=-1.612, total=   0.3s\n",
      "[CV] n_estimators=20, max_depth=8, learning_rate=0.3 .................\n",
      "[CV]  n_estimators=20, max_depth=8, learning_rate=0.3, score=-1.374, total=   0.3s\n",
      "[CV] n_estimators=20, max_depth=8, learning_rate=0.3 .................\n",
      "[CV]  n_estimators=20, max_depth=8, learning_rate=0.3, score=-1.650, total=   0.3s\n",
      "[CV] n_estimators=20, max_depth=8, learning_rate=0.3 .................\n",
      "[CV]  n_estimators=20, max_depth=8, learning_rate=0.3, score=-1.416, total=   0.3s\n",
      "[CV] n_estimators=50, max_depth=6, learning_rate=0.25 ................\n",
      "[CV]  n_estimators=50, max_depth=6, learning_rate=0.25, score=-1.541, total=   0.6s\n",
      "[CV] n_estimators=50, max_depth=6, learning_rate=0.25 ................\n",
      "[CV]  n_estimators=50, max_depth=6, learning_rate=0.25, score=-1.603, total=   0.5s\n",
      "[CV] n_estimators=50, max_depth=6, learning_rate=0.25 ................\n",
      "[CV]  n_estimators=50, max_depth=6, learning_rate=0.25, score=-1.351, total=   0.5s\n",
      "[CV] n_estimators=50, max_depth=6, learning_rate=0.25 ................\n",
      "[CV]  n_estimators=50, max_depth=6, learning_rate=0.25, score=-1.715, total=   0.5s\n",
      "[CV] n_estimators=50, max_depth=6, learning_rate=0.25 ................\n",
      "[CV]  n_estimators=50, max_depth=6, learning_rate=0.25, score=-1.403, total=   0.5s\n",
      "[CV] n_estimators=120, max_depth=10, learning_rate=0.1 ...............\n",
      "[CV]  n_estimators=120, max_depth=10, learning_rate=0.1, score=-1.547, total=   1.3s\n",
      "[CV] n_estimators=120, max_depth=10, learning_rate=0.1 ...............\n",
      "[CV]  n_estimators=120, max_depth=10, learning_rate=0.1, score=-1.613, total=   1.4s\n",
      "[CV] n_estimators=120, max_depth=10, learning_rate=0.1 ...............\n",
      "[CV]  n_estimators=120, max_depth=10, learning_rate=0.1, score=-1.304, total=   1.3s\n",
      "[CV] n_estimators=120, max_depth=10, learning_rate=0.1 ...............\n",
      "[CV]  n_estimators=120, max_depth=10, learning_rate=0.1, score=-1.671, total=   1.3s\n",
      "[CV] n_estimators=120, max_depth=10, learning_rate=0.1 ...............\n",
      "[CV]  n_estimators=120, max_depth=10, learning_rate=0.1, score=-1.311, total=   1.3s\n",
      "[CV] n_estimators=50, max_depth=6, learning_rate=0.01 ................\n",
      "[CV]  n_estimators=50, max_depth=6, learning_rate=0.01, score=-1.893, total=   0.8s\n",
      "[CV] n_estimators=50, max_depth=6, learning_rate=0.01 ................\n",
      "[CV]  n_estimators=50, max_depth=6, learning_rate=0.01, score=-1.934, total=   0.8s\n",
      "[CV] n_estimators=50, max_depth=6, learning_rate=0.01 ................\n",
      "[CV]  n_estimators=50, max_depth=6, learning_rate=0.01, score=-1.819, total=   0.7s\n",
      "[CV] n_estimators=50, max_depth=6, learning_rate=0.01 ................\n",
      "[CV]  n_estimators=50, max_depth=6, learning_rate=0.01, score=-1.890, total=   0.7s\n",
      "[CV] n_estimators=50, max_depth=6, learning_rate=0.01 ................\n",
      "[CV]  n_estimators=50, max_depth=6, learning_rate=0.01, score=-1.809, total=   0.8s\n",
      "[CV] n_estimators=100, max_depth=2, learning_rate=0.001 ..............\n",
      "[CV]  n_estimators=100, max_depth=2, learning_rate=0.001, score=-2.033, total=   0.7s\n",
      "[CV] n_estimators=100, max_depth=2, learning_rate=0.001 ..............\n",
      "[CV]  n_estimators=100, max_depth=2, learning_rate=0.001, score=-2.050, total=   0.7s\n",
      "[CV] n_estimators=100, max_depth=2, learning_rate=0.001 ..............\n",
      "[CV]  n_estimators=100, max_depth=2, learning_rate=0.001, score=-2.017, total=   0.7s\n",
      "[CV] n_estimators=100, max_depth=2, learning_rate=0.001 ..............\n",
      "[CV]  n_estimators=100, max_depth=2, learning_rate=0.001, score=-2.038, total=   0.7s\n",
      "[CV] n_estimators=100, max_depth=2, learning_rate=0.001 ..............\n",
      "[CV]  n_estimators=100, max_depth=2, learning_rate=0.001, score=-2.024, total=   0.7s\n"
     ]
    },
    {
     "name": "stderr",
     "output_type": "stream",
     "text": [
      "[Parallel(n_jobs=1)]: Done  50 out of  50 | elapsed:   42.3s finished\n"
     ]
    },
    {
     "name": "stdout",
     "output_type": "stream",
     "text": [
      "-1.4891564747031614\n",
      "{'n_estimators': 120, 'max_depth': 10, 'learning_rate': 0.1}\n",
      "ROC_AUC rf 0.8448378631904228\n"
     ]
    }
   ],
   "source": [
    "#############################################################################\n",
    "\n",
    "from xgboost import XGBClassifier\n",
    "\n",
    "lr_range = [0.001, 0.01, 0.1, 0.2,0.25, 0.3]\n",
    "n_est_range = [10,20,30,50,100,120,150]\n",
    "md_range = [2,4,6,8,10]\n",
    "\n",
    "\n",
    "\n",
    "parameters = dict(learning_rate=lr_range,n_estimators=n_est_range, max_depth=md_range)\n",
    "\n",
    "from sklearn.model_selection import RandomizedSearchCV\n",
    "clf = XGBClassifier(random_state=2019)\n",
    "xgb0 = RandomizedSearchCV(clf, param_distributions=parameters,cv=5,scoring='neg_log_loss',verbose=3)\n",
    "xgb0.fit(X0_train,y0_train)\n",
    "print(xgb0.best_score_)\n",
    "print(xgb0.best_params_)\n",
    "y_pred0_proba=xgb0.predict_proba(X0_test)\n",
    "print(\"ROC_AUC rf\",roc_auc_score(y0_test, y_pred0_proba, multi_class='ovr'))   \n",
    "\n",
    "#ROC_AUC rf 0.8448378631904228"
   ]
  },
  {
   "cell_type": "code",
   "execution_count": 29,
   "metadata": {},
   "outputs": [
    {
     "name": "stdout",
     "output_type": "stream",
     "text": [
      "ROC_AUC rf 0.49645255390834864\n"
     ]
    }
   ],
   "source": [
    "########################################### MultinomialNB #####################################################\n",
    "\n",
    "\n",
    "from sklearn.naive_bayes import MultinomialNB\n",
    "\n",
    "multinomial = MultinomialNB()\n",
    "\n",
    "mul=multinomial.fit(X0_train_scaled, y0_train) # Model Building\n",
    "y_pred0_proba_mul=mul.predict_proba(X0_test)\n",
    "print(\"ROC_AUC rf\",roc_auc_score(y0_test, y_pred0_proba_mul, multi_class='ovr'))   \n",
    "#ROC_AUC rf 0.49645255390834864"
   ]
  },
  {
   "cell_type": "code",
   "execution_count": null,
   "metadata": {
    "scrolled": false
   },
   "outputs": [],
   "source": [
    "##############################################  MLP ##########################################\n",
    "\n",
    "\n",
    "lr_range = np.linspace(0.01,0.8,10)\n",
    "hl_range = [(400,200,150,200,250,100,300)]\n",
    "act_range = ['logistic','tanh','sigmoid']\n",
    "parameters = dict(learning_rate_init=lr_range,hidden_layer_sizes = hl_range,\n",
    "                  activation = act_range)\n",
    "\n",
    "mlp=MLPClassifier()\n",
    "model_mlp=RandomizedSearchCV(clf, param_distributions=parameters,cv=5,scoring='neg_log_loss',verbose=3)\n",
    "model_mlp.fit(X0_train_scaled, y0_train)\n",
    "\n",
    "y_pred0_proba_mlp=mul.predict_proba(X0_test)\n",
    "\n",
    "print(model_mlp.best_score_)\n",
    "print(model_mlp.best_params_)\n",
    "\n",
    "print(\"ROC_AUC rf\",roc_auc_score(y0_test, y_pred0_proba_mlp, multi_class='ovr'))  \n",
    "\n",
    "#ROC_AUC rf 0.49645255390834864"
   ]
  },
  {
   "cell_type": "markdown",
   "metadata": {},
   "source": [
    "# Training Cluster 1 with GradientBoosting"
   ]
  },
  {
   "cell_type": "code",
   "execution_count": 32,
   "metadata": {},
   "outputs": [],
   "source": [
    "#################################### train cluster 1 ##################################\n",
    "\n",
    "\n",
    "\n",
    "Clust1[\"emotions\"].value_counts()\n",
    "X1 = Clust1.iloc[:,2:]\n",
    "y1 = Clust1[\"emotions\"]\n",
    "\n",
    "X1_train, X1_test, y1_train, y1_test = train_test_split(X1, y1, test_size = 0.2,                                                  random_state=2019,\n",
    "                                                   stratify=y1)\n"
   ]
  },
  {
   "cell_type": "code",
   "execution_count": 33,
   "metadata": {},
   "outputs": [
    {
     "name": "stderr",
     "output_type": "stream",
     "text": [
      "C:\\Users\\dai\\Anaconda3\\lib\\site-packages\\sklearn\\model_selection\\_split.py:296: FutureWarning: Setting a random_state has no effect since shuffle is False. This will raise an error in 0.24. You should leave random_state to its default (None), or set shuffle=True.\n",
      "  FutureWarning\n",
      "[Parallel(n_jobs=-1)]: Using backend LokyBackend with 16 concurrent workers.\n"
     ]
    },
    {
     "name": "stdout",
     "output_type": "stream",
     "text": [
      "Fitting 5 folds for each of 10 candidates, totalling 50 fits\n"
     ]
    },
    {
     "name": "stderr",
     "output_type": "stream",
     "text": [
      "[Parallel(n_jobs=-1)]: Done  36 out of  50 | elapsed:    4.7s remaining:    1.8s\n",
      "[Parallel(n_jobs=-1)]: Done  50 out of  50 | elapsed:    5.9s finished\n"
     ]
    },
    {
     "name": "stdout",
     "output_type": "stream",
     "text": [
      "ROC_auc_score for Gradient Boost:\n",
      " 0.8100625720044856\n",
      "{'n_estimators': 30, 'min_samples_leaf': 30, 'max_depth': 40, 'learning_rate': 0.24213793103448275}\n",
      "loss for Gradient Boost Model -1.57155940039346\n",
      "1    17\n",
      "2    14\n",
      "6    13\n",
      "7    10\n",
      "4     9\n",
      "5     8\n",
      "3     7\n",
      "0     7\n",
      "Name: emotions, dtype: int64\n"
     ]
    }
   ],
   "source": [
    "############################### scaling the input data ####################\n",
    "\n",
    "from sklearn.preprocessing import MinMaxScaler\n",
    "scaler = MinMaxScaler()\n",
    "X1_train_scaled=scaler.fit_transform(X1_train)\n",
    "\n",
    "X1_train_scaled = pd.DataFrame(X1_train_scaled,\n",
    "                          columns=X1_train.columns,\n",
    "                          index=X1_train.index)\n",
    "\n",
    "\n",
    "lr_range = np.linspace(0.001,1,30)\n",
    "n_est_range = np.arange(10,50,20)\n",
    "depth_range = np.arange(5,50,5)\n",
    "minleaf_range = np.arange(10,50,10)\n",
    "\n",
    "parameters = dict(learning_rate=lr_range,              \n",
    "                  max_depth=depth_range,\n",
    "                  min_samples_leaf=minleaf_range,n_estimators=n_est_range )\n",
    "\n",
    "kfold = StratifiedKFold(n_splits=5, random_state=42)\n",
    "GB1 = GradientBoostingClassifier(random_state=2019)\n",
    "model_GB1 = RandomizedSearchCV(GB1, param_distributions=parameters,cv=kfold,scoring='neg_log_loss',verbose=3,n_jobs=-1)\n",
    "model_GB1.fit(X1_train,y1_train)\n",
    "X1_test.reset_index(drop=True)\n",
    "y1_pred1_proba_GB=model_GB1.predict_proba(X1_test)\n",
    "#y0_pred0_proba1=pd.DataFrame(y0_pred0_proba1)\n",
    "#y0_pred0_proba_em=y0_pred0_proba1.idxmax(axis=1)\n",
    "#y0_pred0_proba=y0_pred0_proba1.max(axis=1)\n",
    "#y0_pred0_proba3=pd.DataFrame(y0_pred0_proba)\n",
    "#y0_test1=pd.DataFrame(y0_test)\n",
    "#def fun():\n",
    "#    global y0_pred0_proba1\n",
    "#    print(\"test\")\n",
    "#    for i,row in y0_pred0_proba1.iterrows():    \n",
    "#        c=(max(row))\n",
    "#        print (c)\n",
    "    \n",
    "print(\"ROC_auc_score for Gradient Boost:\\n\",roc_auc_score(y1_test, y1_pred1_proba_GB,multi_class='ovr'))\n",
    "\n",
    "print(model_GB1.best_params_)\n",
    "\n",
    "print(\"loss for Gradient Boost Model\",model_GB1.best_score_)\n",
    "\n",
    "print(y1_test.value_counts())\n",
    "\n",
    "\n",
    "#ROC_auc_score for Gradient Boost: 0.8100625720044856\n",
    "#{'n_estimators': 30, 'min_samples_leaf': 30, 'max_depth': 40, 'learning_rate': 0.24213793103448275}\n"
   ]
  },
  {
   "cell_type": "markdown",
   "metadata": {},
   "source": [
    "# Training Cluster 1 with Random Forest"
   ]
  },
  {
   "cell_type": "code",
   "execution_count": 35,
   "metadata": {},
   "outputs": [
    {
     "name": "stdout",
     "output_type": "stream",
     "text": [
      "Fitting 5 folds for each of 100 candidates, totalling 500 fits\n"
     ]
    },
    {
     "name": "stderr",
     "output_type": "stream",
     "text": [
      "[Parallel(n_jobs=-1)]: Using backend LokyBackend with 16 concurrent workers.\n",
      "[Parallel(n_jobs=-1)]: Done  96 tasks      | elapsed:    3.1s\n",
      "[Parallel(n_jobs=-1)]: Done 256 tasks      | elapsed:    7.6s\n",
      "[Parallel(n_jobs=-1)]: Done 500 out of 500 | elapsed:   13.3s finished\n"
     ]
    },
    {
     "name": "stdout",
     "output_type": "stream",
     "text": [
      "{'n_estimators': 190, 'min_samples_split': 15, 'min_samples_leaf': 10, 'max_features': 50, 'max_depth': 30}\n",
      "-1.643701330257354\n",
      "ROC_AUC rf 0.7916737542025991\n"
     ]
    }
   ],
   "source": [
    "################### Random Forest ###############\n",
    "\n",
    "\n",
    "n_est_range = np.arange(10,200,20)\n",
    "depth_range = np.arange(5,50,5)\n",
    "max_feat_range = np.arange(20,57)\n",
    "minleaf_range = np.arange(10,50,10)\n",
    "minsplit_range = np.arange(5,50,5)\n",
    "\n",
    "parameters = dict(n_estimators=n_est_range,\n",
    "                  max_depth=depth_range,\n",
    "                  min_samples_split=minsplit_range,\n",
    "                  min_samples_leaf=minleaf_range,\n",
    "                  max_features=max_feat_range)\n",
    "\n",
    "from sklearn.ensemble import RandomForestClassifier\n",
    "rf1 = RandomForestClassifier(random_state=2019)\n",
    "\n",
    "model_rf1 = RandomizedSearchCV(rf1, param_distributions =parameters,\n",
    "                  cv=kfold,scoring='neg_log_loss',verbose=3,n_iter=100,n_jobs=-1)\n",
    "\n",
    "model_rf1.fit(X1_train,y1_train)\n",
    "\n",
    "\n",
    "print(model_rf1.best_params_)\n",
    "\n",
    "print(model_rf1.best_score_)\n",
    "\n",
    "y_pred1_proba_RF=model_rf1.predict_proba(X1_test)\n",
    "\n",
    "print(\"ROC_AUC rf\",roc_auc_score(y1_test, y_pred1_proba_RF, multi_class='ovr'))   \n",
    "\n",
    "#{'n_estimators': 190, 'min_samples_split': 15, 'min_samples_leaf': 10, 'max_features': 50, 'max_depth': 30}\n",
    "#-1.643701330257354\n",
    "#ROC_AUC rf 0.7916737542025991\n"
   ]
  },
  {
   "cell_type": "markdown",
   "metadata": {},
   "source": [
    "# Training Cluster 1 with XGBoost"
   ]
  },
  {
   "cell_type": "code",
   "execution_count": 37,
   "metadata": {},
   "outputs": [
    {
     "name": "stdout",
     "output_type": "stream",
     "text": [
      "Fitting 5 folds for each of 10 candidates, totalling 50 fits\n",
      "[CV] n_estimators=100, max_depth=2, learning_rate=0.1 ................\n"
     ]
    },
    {
     "name": "stderr",
     "output_type": "stream",
     "text": [
      "[Parallel(n_jobs=1)]: Using backend SequentialBackend with 1 concurrent workers.\n"
     ]
    },
    {
     "name": "stdout",
     "output_type": "stream",
     "text": [
      "[CV]  n_estimators=100, max_depth=2, learning_rate=0.1, score=-1.476, total=   0.9s\n",
      "[CV] n_estimators=100, max_depth=2, learning_rate=0.1 ................\n"
     ]
    },
    {
     "name": "stderr",
     "output_type": "stream",
     "text": [
      "[Parallel(n_jobs=1)]: Done   1 out of   1 | elapsed:    0.8s remaining:    0.0s\n"
     ]
    },
    {
     "name": "stdout",
     "output_type": "stream",
     "text": [
      "[CV]  n_estimators=100, max_depth=2, learning_rate=0.1, score=-1.567, total=   0.9s\n",
      "[CV] n_estimators=100, max_depth=2, learning_rate=0.1 ................\n"
     ]
    },
    {
     "name": "stderr",
     "output_type": "stream",
     "text": [
      "[Parallel(n_jobs=1)]: Done   2 out of   2 | elapsed:    1.7s remaining:    0.0s\n"
     ]
    },
    {
     "name": "stdout",
     "output_type": "stream",
     "text": [
      "[CV]  n_estimators=100, max_depth=2, learning_rate=0.1, score=-1.559, total=   0.9s\n",
      "[CV] n_estimators=100, max_depth=2, learning_rate=0.1 ................\n",
      "[CV]  n_estimators=100, max_depth=2, learning_rate=0.1, score=-1.688, total=   0.8s\n",
      "[CV] n_estimators=100, max_depth=2, learning_rate=0.1 ................\n",
      "[CV]  n_estimators=100, max_depth=2, learning_rate=0.1, score=-1.524, total=   0.9s\n",
      "[CV] n_estimators=20, max_depth=2, learning_rate=0.3 .................\n",
      "[CV]  n_estimators=20, max_depth=2, learning_rate=0.3, score=-1.537, total=   0.2s\n",
      "[CV] n_estimators=20, max_depth=2, learning_rate=0.3 .................\n",
      "[CV]  n_estimators=20, max_depth=2, learning_rate=0.3, score=-1.627, total=   0.2s\n",
      "[CV] n_estimators=20, max_depth=2, learning_rate=0.3 .................\n",
      "[CV]  n_estimators=20, max_depth=2, learning_rate=0.3, score=-1.581, total=   0.2s\n",
      "[CV] n_estimators=20, max_depth=2, learning_rate=0.3 .................\n",
      "[CV]  n_estimators=20, max_depth=2, learning_rate=0.3, score=-1.755, total=   0.2s\n",
      "[CV] n_estimators=20, max_depth=2, learning_rate=0.3 .................\n",
      "[CV]  n_estimators=20, max_depth=2, learning_rate=0.3, score=-1.533, total=   0.2s\n",
      "[CV] n_estimators=30, max_depth=8, learning_rate=0.1 .................\n",
      "[CV]  n_estimators=30, max_depth=8, learning_rate=0.1, score=-1.476, total=   0.7s\n",
      "[CV] n_estimators=30, max_depth=8, learning_rate=0.1 .................\n",
      "[CV]  n_estimators=30, max_depth=8, learning_rate=0.1, score=-1.594, total=   0.7s\n",
      "[CV] n_estimators=30, max_depth=8, learning_rate=0.1 .................\n",
      "[CV]  n_estimators=30, max_depth=8, learning_rate=0.1, score=-1.603, total=   0.7s\n",
      "[CV] n_estimators=30, max_depth=8, learning_rate=0.1 .................\n",
      "[CV]  n_estimators=30, max_depth=8, learning_rate=0.1, score=-1.630, total=   0.7s\n",
      "[CV] n_estimators=30, max_depth=8, learning_rate=0.1 .................\n",
      "[CV]  n_estimators=30, max_depth=8, learning_rate=0.1, score=-1.561, total=   0.7s\n",
      "[CV] n_estimators=100, max_depth=4, learning_rate=0.01 ...............\n",
      "[CV]  n_estimators=100, max_depth=4, learning_rate=0.01, score=-1.698, total=   1.7s\n",
      "[CV] n_estimators=100, max_depth=4, learning_rate=0.01 ...............\n",
      "[CV]  n_estimators=100, max_depth=4, learning_rate=0.01, score=-1.783, total=   1.6s\n",
      "[CV] n_estimators=100, max_depth=4, learning_rate=0.01 ...............\n",
      "[CV]  n_estimators=100, max_depth=4, learning_rate=0.01, score=-1.754, total=   1.6s\n",
      "[CV] n_estimators=100, max_depth=4, learning_rate=0.01 ...............\n",
      "[CV]  n_estimators=100, max_depth=4, learning_rate=0.01, score=-1.788, total=   1.5s\n",
      "[CV] n_estimators=100, max_depth=4, learning_rate=0.01 ...............\n",
      "[CV]  n_estimators=100, max_depth=4, learning_rate=0.01, score=-1.766, total=   1.6s\n",
      "[CV] n_estimators=10, max_depth=8, learning_rate=0.2 .................\n",
      "[CV]  n_estimators=10, max_depth=8, learning_rate=0.2, score=-1.489, total=   0.2s\n",
      "[CV] n_estimators=10, max_depth=8, learning_rate=0.2 .................\n",
      "[CV]  n_estimators=10, max_depth=8, learning_rate=0.2, score=-1.652, total=   0.3s\n",
      "[CV] n_estimators=10, max_depth=8, learning_rate=0.2 .................\n",
      "[CV]  n_estimators=10, max_depth=8, learning_rate=0.2, score=-1.641, total=   0.2s\n",
      "[CV] n_estimators=10, max_depth=8, learning_rate=0.2 .................\n",
      "[CV]  n_estimators=10, max_depth=8, learning_rate=0.2, score=-1.689, total=   0.2s\n",
      "[CV] n_estimators=10, max_depth=8, learning_rate=0.2 .................\n",
      "[CV]  n_estimators=10, max_depth=8, learning_rate=0.2, score=-1.623, total=   0.2s\n",
      "[CV] n_estimators=150, max_depth=10, learning_rate=0.01 ..............\n",
      "[CV]  n_estimators=150, max_depth=10, learning_rate=0.01, score=-1.578, total=   3.4s\n",
      "[CV] n_estimators=150, max_depth=10, learning_rate=0.01 ..............\n",
      "[CV]  n_estimators=150, max_depth=10, learning_rate=0.01, score=-1.683, total=   3.4s\n",
      "[CV] n_estimators=150, max_depth=10, learning_rate=0.01 ..............\n",
      "[CV]  n_estimators=150, max_depth=10, learning_rate=0.01, score=-1.706, total=   3.4s\n",
      "[CV] n_estimators=150, max_depth=10, learning_rate=0.01 ..............\n",
      "[CV]  n_estimators=150, max_depth=10, learning_rate=0.01, score=-1.690, total=   3.4s\n",
      "[CV] n_estimators=150, max_depth=10, learning_rate=0.01 ..............\n",
      "[CV]  n_estimators=150, max_depth=10, learning_rate=0.01, score=-1.692, total=   3.4s\n",
      "[CV] n_estimators=50, max_depth=2, learning_rate=0.25 ................\n",
      "[CV]  n_estimators=50, max_depth=2, learning_rate=0.25, score=-1.496, total=   0.4s\n",
      "[CV] n_estimators=50, max_depth=2, learning_rate=0.25 ................\n",
      "[CV]  n_estimators=50, max_depth=2, learning_rate=0.25, score=-1.529, total=   0.5s\n",
      "[CV] n_estimators=50, max_depth=2, learning_rate=0.25 ................\n",
      "[CV]  n_estimators=50, max_depth=2, learning_rate=0.25, score=-1.555, total=   0.4s\n",
      "[CV] n_estimators=50, max_depth=2, learning_rate=0.25 ................\n",
      "[CV]  n_estimators=50, max_depth=2, learning_rate=0.25, score=-1.672, total=   0.4s\n",
      "[CV] n_estimators=50, max_depth=2, learning_rate=0.25 ................\n",
      "[CV]  n_estimators=50, max_depth=2, learning_rate=0.25, score=-1.523, total=   0.4s\n",
      "[CV] n_estimators=50, max_depth=6, learning_rate=0.1 .................\n",
      "[CV]  n_estimators=50, max_depth=6, learning_rate=0.1, score=-1.401, total=   1.0s\n",
      "[CV] n_estimators=50, max_depth=6, learning_rate=0.1 .................\n",
      "[CV]  n_estimators=50, max_depth=6, learning_rate=0.1, score=-1.546, total=   1.0s\n",
      "[CV] n_estimators=50, max_depth=6, learning_rate=0.1 .................\n",
      "[CV]  n_estimators=50, max_depth=6, learning_rate=0.1, score=-1.546, total=   1.0s\n",
      "[CV] n_estimators=50, max_depth=6, learning_rate=0.1 .................\n",
      "[CV]  n_estimators=50, max_depth=6, learning_rate=0.1, score=-1.562, total=   0.9s\n",
      "[CV] n_estimators=50, max_depth=6, learning_rate=0.1 .................\n",
      "[CV]  n_estimators=50, max_depth=6, learning_rate=0.1, score=-1.478, total=   1.0s\n",
      "[CV] n_estimators=10, max_depth=4, learning_rate=0.1 .................\n",
      "[CV]  n_estimators=10, max_depth=4, learning_rate=0.1, score=-1.693, total=   0.2s\n",
      "[CV] n_estimators=10, max_depth=4, learning_rate=0.1 .................\n",
      "[CV]  n_estimators=10, max_depth=4, learning_rate=0.1, score=-1.785, total=   0.2s\n",
      "[CV] n_estimators=10, max_depth=4, learning_rate=0.1 .................\n",
      "[CV]  n_estimators=10, max_depth=4, learning_rate=0.1, score=-1.745, total=   0.2s\n",
      "[CV] n_estimators=10, max_depth=4, learning_rate=0.1 .................\n",
      "[CV]  n_estimators=10, max_depth=4, learning_rate=0.1, score=-1.784, total=   0.2s\n",
      "[CV] n_estimators=10, max_depth=4, learning_rate=0.1 .................\n",
      "[CV]  n_estimators=10, max_depth=4, learning_rate=0.1, score=-1.759, total=   0.2s\n",
      "[CV] n_estimators=20, max_depth=4, learning_rate=0.001 ...............\n",
      "[CV]  n_estimators=20, max_depth=4, learning_rate=0.001, score=-2.066, total=   0.3s\n",
      "[CV] n_estimators=20, max_depth=4, learning_rate=0.001 ...............\n",
      "[CV]  n_estimators=20, max_depth=4, learning_rate=0.001, score=-2.068, total=   0.3s\n",
      "[CV] n_estimators=20, max_depth=4, learning_rate=0.001 ...............\n",
      "[CV]  n_estimators=20, max_depth=4, learning_rate=0.001, score=-2.069, total=   0.3s\n",
      "[CV] n_estimators=20, max_depth=4, learning_rate=0.001 ...............\n",
      "[CV]  n_estimators=20, max_depth=4, learning_rate=0.001, score=-2.067, total=   0.3s\n",
      "[CV] n_estimators=20, max_depth=4, learning_rate=0.001 ...............\n",
      "[CV]  n_estimators=20, max_depth=4, learning_rate=0.001, score=-2.068, total=   0.3s\n"
     ]
    },
    {
     "name": "stderr",
     "output_type": "stream",
     "text": [
      "[Parallel(n_jobs=1)]: Done  50 out of  50 | elapsed:   44.2s finished\n"
     ]
    },
    {
     "name": "stdout",
     "output_type": "stream",
     "text": [
      "-1.506646456405082\n",
      "{'n_estimators': 50, 'max_depth': 6, 'learning_rate': 0.1}\n",
      "ROC_AUC  0.8238605870323328\n"
     ]
    }
   ],
   "source": [
    "###################################   XGBoost   ##########################################\n",
    "\n",
    "lr_range = [0.001, 0.01, 0.1, 0.2,0.25, 0.3]\n",
    "n_est_range = [10,20,30,50,100,120,150]\n",
    "md_range = [2,4,6,8,10]\n",
    "\n",
    "parameters = dict(learning_rate=lr_range,n_estimators=n_est_range, max_depth=md_range)\n",
    "\n",
    "from sklearn.model_selection import RandomizedSearchCV\n",
    "XGB1 = XGBClassifier(random_state=2019)\n",
    "model_XGB1 = RandomizedSearchCV(XGB1, param_distributions=parameters,cv=5,scoring='neg_log_loss',verbose=3)\n",
    "model_XGB1.fit(X1_train,y1_train)\n",
    "print(model_XGB1.best_score_)\n",
    "print(model_XGB1.best_params_)\n",
    "y_pred1_proba_XGB=model_XGB1.predict_proba(X1_test)\n",
    "print(\"ROC_AUC \",roc_auc_score(y1_test, y_pred1_proba_XGB, multi_class='ovr'))   \n",
    "\n",
    "#-1.488675482467036\n",
    "#{'n_estimators': 100, 'max_depth': 4, 'learning_rate': 0.1}\n",
    "#ROC_AUC  0.8248853363080373"
   ]
  },
  {
   "cell_type": "markdown",
   "metadata": {},
   "source": [
    "# Training Cluster 2 with Gradient Boosting"
   ]
  },
  {
   "cell_type": "code",
   "execution_count": 38,
   "metadata": {},
   "outputs": [],
   "source": [
    "########################################################################################\n",
    "#################################### train cluster 2 ##################################\n",
    "\n",
    "\n",
    "\n",
    "Clust1[\"emotions\"].value_counts()\n",
    "X2 = Clust2.iloc[:,2:]\n",
    "y2 = Clust2[\"emotions\"]\n",
    "\n",
    "X2_train, X2_test, y2_train, y2_test = train_test_split(X2, y2, test_size = 0.2,                                                  random_state=2019,\n",
    "                                                   stratify=y2)"
   ]
  },
  {
   "cell_type": "code",
   "execution_count": 40,
   "metadata": {},
   "outputs": [
    {
     "name": "stderr",
     "output_type": "stream",
     "text": [
      "C:\\Users\\dai\\Anaconda3\\lib\\site-packages\\sklearn\\model_selection\\_split.py:296: FutureWarning: Setting a random_state has no effect since shuffle is False. This will raise an error in 0.24. You should leave random_state to its default (None), or set shuffle=True.\n",
      "  FutureWarning\n",
      "[Parallel(n_jobs=-1)]: Using backend LokyBackend with 16 concurrent workers.\n"
     ]
    },
    {
     "name": "stdout",
     "output_type": "stream",
     "text": [
      "Fitting 5 folds for each of 10 candidates, totalling 50 fits\n"
     ]
    },
    {
     "name": "stderr",
     "output_type": "stream",
     "text": [
      "[Parallel(n_jobs=-1)]: Done  36 out of  50 | elapsed:    3.7s remaining:    1.4s\n",
      "[Parallel(n_jobs=-1)]: Done  50 out of  50 | elapsed:    4.8s finished\n"
     ]
    },
    {
     "name": "stdout",
     "output_type": "stream",
     "text": [
      "ROC_auc_score for Gradient Boost:\n",
      " 0.8586810276321564\n",
      "{'n_estimators': 30, 'min_samples_leaf': 20, 'max_depth': 40, 'learning_rate': 0.06989655172413793}\n",
      "loss for Gradient Boost Model -1.3405080848187516\n",
      "0    19\n",
      "3    18\n",
      "7    14\n",
      "4    14\n",
      "6    11\n",
      "2    10\n",
      "1     7\n",
      "5     3\n",
      "Name: emotions, dtype: int64\n"
     ]
    }
   ],
   "source": [
    "############################### scaling the input data ####################\n",
    "\n",
    "X2_train_scaled=scaler.fit_transform(X2_train)\n",
    "\n",
    "X2_train_scaled = pd.DataFrame(X2_train_scaled,\n",
    "                          columns=X2_train.columns,\n",
    "                          index=X2_train.index)\n",
    "\n",
    "\n",
    "lr_range = np.linspace(0.001,1,30)\n",
    "n_est_range = np.arange(10,50,20)\n",
    "depth_range = np.arange(5,50,5)\n",
    "minleaf_range = np.arange(10,50,10)\n",
    "\n",
    "parameters = dict(learning_rate=lr_range,              \n",
    "                  max_depth=depth_range,\n",
    "                  min_samples_leaf=minleaf_range,n_estimators=n_est_range )\n",
    "\n",
    "kfold = StratifiedKFold(n_splits=5, random_state=42)\n",
    "GB2 = GradientBoostingClassifier(random_state=2019)\n",
    "model_GB2 = RandomizedSearchCV(GB2, param_distributions=parameters,cv=kfold,scoring='neg_log_loss',verbose=3,n_jobs=-1)\n",
    "model_GB2.fit(X2_train,y2_train)\n",
    "X2_test.reset_index(drop=True)\n",
    "y_pred2_proba_GB=model_GB2.predict_proba(X2_test)\n",
    "\n",
    "print(\"ROC_auc_score for Gradient Boost:\\n\",roc_auc_score(y2_test, y_pred2_proba_GB,multi_class='ovr'))\n",
    "\n",
    "print(model_GB2.best_params_)\n",
    "\n",
    "print(\"loss for Gradient Boost Model\",model_GB2.best_score_)\n",
    "\n",
    "print(y2_test.value_counts())\n",
    "\n",
    "#ROC_auc_score for Gradient Boost: 0.8586810276321564\n",
    "#{'n_estimators': 30, 'min_samples_leaf': 20, 'max_depth': 40, 'learning_rate': 0.06989655172413793}"
   ]
  },
  {
   "cell_type": "markdown",
   "metadata": {},
   "source": [
    "# Training Cluster 2 with Random Forest"
   ]
  },
  {
   "cell_type": "code",
   "execution_count": 41,
   "metadata": {},
   "outputs": [
    {
     "name": "stdout",
     "output_type": "stream",
     "text": [
      "Fitting 5 folds for each of 100 candidates, totalling 500 fits\n"
     ]
    },
    {
     "name": "stderr",
     "output_type": "stream",
     "text": [
      "[Parallel(n_jobs=-1)]: Using backend LokyBackend with 16 concurrent workers.\n",
      "[Parallel(n_jobs=-1)]: Done 151 tasks      | elapsed:    4.9s\n",
      "[Parallel(n_jobs=-1)]: Done 318 tasks      | elapsed:   10.8s\n",
      "[Parallel(n_jobs=-1)]: Done 500 out of 500 | elapsed:   16.2s finished\n"
     ]
    },
    {
     "name": "stdout",
     "output_type": "stream",
     "text": [
      "{'n_estimators': 190, 'min_samples_split': 5, 'min_samples_leaf': 10, 'max_features': 48, 'max_depth': 10}\n",
      "-1.3959358272271494\n",
      "ROC_AUC rf 0.8626562341030408\n"
     ]
    }
   ],
   "source": [
    "################### Random Forest ###############\n",
    "\n",
    "\n",
    "n_est_range = np.arange(10,200,20)\n",
    "depth_range = np.arange(5,50,5)\n",
    "max_feat_range = np.arange(20,57)\n",
    "minleaf_range = np.arange(10,50,10)\n",
    "minsplit_range = np.arange(5,50,5)\n",
    "\n",
    "parameters = dict(n_estimators=n_est_range,\n",
    "                  max_depth=depth_range,\n",
    "                  min_samples_split=minsplit_range,\n",
    "                  min_samples_leaf=minleaf_range,\n",
    "                  max_features=max_feat_range)\n",
    "\n",
    "from sklearn.ensemble import RandomForestClassifier\n",
    "rf2 = RandomForestClassifier(random_state=2019)\n",
    "\n",
    "model_rf2 = RandomizedSearchCV(rf2, param_distributions =parameters,\n",
    "                  cv=kfold,scoring='neg_log_loss',verbose=3,n_iter=100,n_jobs=-1)\n",
    "\n",
    "model_rf2.fit(X2_train,y2_train)\n",
    "\n",
    "\n",
    "print(model_rf2.best_params_)\n",
    "\n",
    "print(model_rf2.best_score_)\n",
    "\n",
    "y_pred2_proba_RF=model_rf2.predict_proba(X2_test)\n",
    "\n",
    "print(\"ROC_AUC rf\",roc_auc_score(y2_test, y_pred2_proba_RF, multi_class='ovr'))   \n",
    "\n",
    "#{'n_estimators': 190, 'min_samples_split': 5, 'min_samples_leaf': 10, 'max_features': 48, 'max_depth': 10}\n",
    "#-1.3959358272271494\n",
    "#ROC_AUC rf 0.8626562341030408\n"
   ]
  },
  {
   "cell_type": "markdown",
   "metadata": {},
   "source": [
    "# Training Cluster 2 with XGBoost"
   ]
  },
  {
   "cell_type": "code",
   "execution_count": 42,
   "metadata": {},
   "outputs": [
    {
     "name": "stdout",
     "output_type": "stream",
     "text": [
      "Fitting 5 folds for each of 10 candidates, totalling 50 fits\n",
      "[CV] n_estimators=20, max_depth=6, learning_rate=0.3 .................\n"
     ]
    },
    {
     "name": "stderr",
     "output_type": "stream",
     "text": [
      "[Parallel(n_jobs=1)]: Using backend SequentialBackend with 1 concurrent workers.\n"
     ]
    },
    {
     "name": "stdout",
     "output_type": "stream",
     "text": [
      "[CV]  n_estimators=20, max_depth=6, learning_rate=0.3, score=-1.216, total=   0.4s\n",
      "[CV] n_estimators=20, max_depth=6, learning_rate=0.3 .................\n"
     ]
    },
    {
     "name": "stderr",
     "output_type": "stream",
     "text": [
      "[Parallel(n_jobs=1)]: Done   1 out of   1 | elapsed:    0.3s remaining:    0.0s\n"
     ]
    },
    {
     "name": "stdout",
     "output_type": "stream",
     "text": [
      "[CV]  n_estimators=20, max_depth=6, learning_rate=0.3, score=-1.292, total=   0.4s\n",
      "[CV] n_estimators=20, max_depth=6, learning_rate=0.3 .................\n"
     ]
    },
    {
     "name": "stderr",
     "output_type": "stream",
     "text": [
      "[Parallel(n_jobs=1)]: Done   2 out of   2 | elapsed:    0.7s remaining:    0.0s\n"
     ]
    },
    {
     "name": "stdout",
     "output_type": "stream",
     "text": [
      "[CV]  n_estimators=20, max_depth=6, learning_rate=0.3, score=-1.226, total=   0.4s\n",
      "[CV] n_estimators=20, max_depth=6, learning_rate=0.3 .................\n",
      "[CV]  n_estimators=20, max_depth=6, learning_rate=0.3, score=-1.638, total=   0.4s\n",
      "[CV] n_estimators=20, max_depth=6, learning_rate=0.3 .................\n",
      "[CV]  n_estimators=20, max_depth=6, learning_rate=0.3, score=-1.275, total=   0.4s\n",
      "[CV] n_estimators=20, max_depth=10, learning_rate=0.25 ...............\n",
      "[CV]  n_estimators=20, max_depth=10, learning_rate=0.25, score=-1.217, total=   0.5s\n",
      "[CV] n_estimators=20, max_depth=10, learning_rate=0.25 ...............\n",
      "[CV]  n_estimators=20, max_depth=10, learning_rate=0.25, score=-1.336, total=   0.5s\n",
      "[CV] n_estimators=20, max_depth=10, learning_rate=0.25 ...............\n",
      "[CV]  n_estimators=20, max_depth=10, learning_rate=0.25, score=-1.246, total=   0.5s\n",
      "[CV] n_estimators=20, max_depth=10, learning_rate=0.25 ...............\n",
      "[CV]  n_estimators=20, max_depth=10, learning_rate=0.25, score=-1.573, total=   0.5s\n",
      "[CV] n_estimators=20, max_depth=10, learning_rate=0.25 ...............\n",
      "[CV]  n_estimators=20, max_depth=10, learning_rate=0.25, score=-1.289, total=   0.5s\n",
      "[CV] n_estimators=20, max_depth=8, learning_rate=0.1 .................\n",
      "[CV]  n_estimators=20, max_depth=8, learning_rate=0.1, score=-1.348, total=   0.5s\n",
      "[CV] n_estimators=20, max_depth=8, learning_rate=0.1 .................\n",
      "[CV]  n_estimators=20, max_depth=8, learning_rate=0.1, score=-1.428, total=   0.5s\n",
      "[CV] n_estimators=20, max_depth=8, learning_rate=0.1 .................\n",
      "[CV]  n_estimators=20, max_depth=8, learning_rate=0.1, score=-1.456, total=   0.5s\n",
      "[CV] n_estimators=20, max_depth=8, learning_rate=0.1 .................\n",
      "[CV]  n_estimators=20, max_depth=8, learning_rate=0.1, score=-1.649, total=   0.5s\n",
      "[CV] n_estimators=20, max_depth=8, learning_rate=0.1 .................\n",
      "[CV]  n_estimators=20, max_depth=8, learning_rate=0.1, score=-1.416, total=   0.5s\n",
      "[CV] n_estimators=50, max_depth=10, learning_rate=0.1 ................\n",
      "[CV]  n_estimators=50, max_depth=10, learning_rate=0.1, score=-1.238, total=   1.1s\n",
      "[CV] n_estimators=50, max_depth=10, learning_rate=0.1 ................\n",
      "[CV]  n_estimators=50, max_depth=10, learning_rate=0.1, score=-1.261, total=   1.0s\n",
      "[CV] n_estimators=50, max_depth=10, learning_rate=0.1 ................\n",
      "[CV]  n_estimators=50, max_depth=10, learning_rate=0.1, score=-1.267, total=   1.0s\n",
      "[CV] n_estimators=50, max_depth=10, learning_rate=0.1 ................\n",
      "[CV]  n_estimators=50, max_depth=10, learning_rate=0.1, score=-1.561, total=   1.0s\n",
      "[CV] n_estimators=50, max_depth=10, learning_rate=0.1 ................\n",
      "[CV]  n_estimators=50, max_depth=10, learning_rate=0.1, score=-1.302, total=   1.1s\n",
      "[CV] n_estimators=150, max_depth=6, learning_rate=0.25 ...............\n",
      "[CV]  n_estimators=150, max_depth=6, learning_rate=0.25, score=-1.181, total=   1.5s\n",
      "[CV] n_estimators=150, max_depth=6, learning_rate=0.25 ...............\n",
      "[CV]  n_estimators=150, max_depth=6, learning_rate=0.25, score=-1.268, total=   1.4s\n",
      "[CV] n_estimators=150, max_depth=6, learning_rate=0.25 ...............\n",
      "[CV]  n_estimators=150, max_depth=6, learning_rate=0.25, score=-1.184, total=   1.4s\n",
      "[CV] n_estimators=150, max_depth=6, learning_rate=0.25 ...............\n",
      "[CV]  n_estimators=150, max_depth=6, learning_rate=0.25, score=-1.597, total=   1.4s\n",
      "[CV] n_estimators=150, max_depth=6, learning_rate=0.25 ...............\n",
      "[CV]  n_estimators=150, max_depth=6, learning_rate=0.25, score=-1.345, total=   1.4s\n",
      "[CV] n_estimators=30, max_depth=10, learning_rate=0.3 ................\n",
      "[CV]  n_estimators=30, max_depth=10, learning_rate=0.3, score=-1.226, total=   0.5s\n",
      "[CV] n_estimators=30, max_depth=10, learning_rate=0.3 ................\n",
      "[CV]  n_estimators=30, max_depth=10, learning_rate=0.3, score=-1.255, total=   0.6s\n",
      "[CV] n_estimators=30, max_depth=10, learning_rate=0.3 ................\n",
      "[CV]  n_estimators=30, max_depth=10, learning_rate=0.3, score=-1.244, total=   0.6s\n",
      "[CV] n_estimators=30, max_depth=10, learning_rate=0.3 ................\n",
      "[CV]  n_estimators=30, max_depth=10, learning_rate=0.3, score=-1.607, total=   0.5s\n",
      "[CV] n_estimators=30, max_depth=10, learning_rate=0.3 ................\n",
      "[CV]  n_estimators=30, max_depth=10, learning_rate=0.3, score=-1.322, total=   0.5s\n",
      "[CV] n_estimators=50, max_depth=10, learning_rate=0.3 ................\n",
      "[CV]  n_estimators=50, max_depth=10, learning_rate=0.3, score=-1.235, total=   0.7s\n",
      "[CV] n_estimators=50, max_depth=10, learning_rate=0.3 ................\n",
      "[CV]  n_estimators=50, max_depth=10, learning_rate=0.3, score=-1.246, total=   0.7s\n",
      "[CV] n_estimators=50, max_depth=10, learning_rate=0.3 ................\n",
      "[CV]  n_estimators=50, max_depth=10, learning_rate=0.3, score=-1.220, total=   0.7s\n",
      "[CV] n_estimators=50, max_depth=10, learning_rate=0.3 ................\n",
      "[CV]  n_estimators=50, max_depth=10, learning_rate=0.3, score=-1.622, total=   0.7s\n",
      "[CV] n_estimators=50, max_depth=10, learning_rate=0.3 ................\n",
      "[CV]  n_estimators=50, max_depth=10, learning_rate=0.3, score=-1.352, total=   0.7s\n",
      "[CV] n_estimators=30, max_depth=4, learning_rate=0.01 ................\n",
      "[CV]  n_estimators=30, max_depth=4, learning_rate=0.01, score=-1.844, total=   0.5s\n",
      "[CV] n_estimators=30, max_depth=4, learning_rate=0.01 ................\n",
      "[CV]  n_estimators=30, max_depth=4, learning_rate=0.01, score=-1.871, total=   0.5s\n",
      "[CV] n_estimators=30, max_depth=4, learning_rate=0.01 ................\n",
      "[CV]  n_estimators=30, max_depth=4, learning_rate=0.01, score=-1.884, total=   0.5s\n",
      "[CV] n_estimators=30, max_depth=4, learning_rate=0.01 ................\n",
      "[CV]  n_estimators=30, max_depth=4, learning_rate=0.01, score=-1.960, total=   0.5s\n",
      "[CV] n_estimators=30, max_depth=4, learning_rate=0.01 ................\n",
      "[CV]  n_estimators=30, max_depth=4, learning_rate=0.01, score=-1.907, total=   0.5s\n",
      "[CV] n_estimators=50, max_depth=6, learning_rate=0.3 .................\n",
      "[CV]  n_estimators=50, max_depth=6, learning_rate=0.3, score=-1.202, total=   0.7s\n",
      "[CV] n_estimators=50, max_depth=6, learning_rate=0.3 .................\n",
      "[CV]  n_estimators=50, max_depth=6, learning_rate=0.3, score=-1.263, total=   0.7s\n",
      "[CV] n_estimators=50, max_depth=6, learning_rate=0.3 .................\n",
      "[CV]  n_estimators=50, max_depth=6, learning_rate=0.3, score=-1.181, total=   0.7s\n",
      "[CV] n_estimators=50, max_depth=6, learning_rate=0.3 .................\n",
      "[CV]  n_estimators=50, max_depth=6, learning_rate=0.3, score=-1.638, total=   0.7s\n",
      "[CV] n_estimators=50, max_depth=6, learning_rate=0.3 .................\n",
      "[CV]  n_estimators=50, max_depth=6, learning_rate=0.3, score=-1.309, total=   0.7s\n",
      "[CV] n_estimators=150, max_depth=8, learning_rate=0.25 ...............\n",
      "[CV]  n_estimators=150, max_depth=8, learning_rate=0.25, score=-1.173, total=   1.3s\n",
      "[CV] n_estimators=150, max_depth=8, learning_rate=0.25 ...............\n",
      "[CV]  n_estimators=150, max_depth=8, learning_rate=0.25, score=-1.228, total=   1.4s\n",
      "[CV] n_estimators=150, max_depth=8, learning_rate=0.25 ...............\n",
      "[CV]  n_estimators=150, max_depth=8, learning_rate=0.25, score=-1.185, total=   1.4s\n",
      "[CV] n_estimators=150, max_depth=8, learning_rate=0.25 ...............\n",
      "[CV]  n_estimators=150, max_depth=8, learning_rate=0.25, score=-1.630, total=   1.4s\n",
      "[CV] n_estimators=150, max_depth=8, learning_rate=0.25 ...............\n",
      "[CV]  n_estimators=150, max_depth=8, learning_rate=0.25, score=-1.366, total=   1.4s\n"
     ]
    },
    {
     "name": "stderr",
     "output_type": "stream",
     "text": [
      "[Parallel(n_jobs=1)]: Done  50 out of  50 | elapsed:   38.3s finished\n"
     ]
    },
    {
     "name": "stdout",
     "output_type": "stream",
     "text": [
      "-1.3149974532790962\n",
      "{'n_estimators': 150, 'max_depth': 6, 'learning_rate': 0.25}\n",
      "ROC_AUC  0.8902329566151146\n"
     ]
    }
   ],
   "source": [
    "###################################   XGBoost   ##########################################\n",
    "\n",
    "lr_range = [0.001, 0.01, 0.1, 0.2,0.25, 0.3]\n",
    "n_est_range = [10,20,30,50,100,120,150]\n",
    "md_range = [2,4,6,8,10]\n",
    "\n",
    "parameters = dict(learning_rate=lr_range,n_estimators=n_est_range, max_depth=md_range)\n",
    "\n",
    "from sklearn.model_selection import RandomizedSearchCV\n",
    "XGB2 = XGBClassifier(random_state=2019)\n",
    "model_XGB2 = RandomizedSearchCV(XGB1, param_distributions=parameters,cv=5,scoring='neg_log_loss',verbose=3)\n",
    "model_XGB2.fit(X2_train,y2_train)\n",
    "print(model_XGB2.best_score_)\n",
    "print(model_XGB2.best_params_)\n",
    "y_pred2_proba_XGB=model_XGB2.predict_proba(X2_test)\n",
    "print(\"ROC_AUC \",roc_auc_score(y2_test, y_pred2_proba_XGB, multi_class='ovr')) \n",
    "\n",
    "\n",
    "#-1.3149974532790962\n",
    "#{'n_estimators': 150, 'max_depth': 6, 'learning_rate': 0.25}\n",
    "#ROC_AUC  0.8902329566151146"
   ]
  },
  {
   "cell_type": "markdown",
   "metadata": {},
   "source": [
    "# VALIDATION DATASET"
   ]
  },
  {
   "cell_type": "code",
   "execution_count": 74,
   "metadata": {},
   "outputs": [
    {
     "name": "stdout",
     "output_type": "stream",
     "text": [
      "(57, 59)\n",
      "(61, 59)\n",
      "(20, 59)\n",
      "4    5\n",
      "0    5\n",
      "3    4\n",
      "7    2\n",
      "2    2\n",
      "1    2\n",
      "Name: emotions, dtype: int64\n",
      "ROC_AUC  0.8672289942434122\n"
     ]
    }
   ],
   "source": [
    "##################################################  TESTING ##############################################\n",
    "\n",
    "X_test_scaled=scaler.transform(x_test)\n",
    "\n",
    "ClusterID = model_km.predict(X_test_scaled)\n",
    "ClusterID = pd.DataFrame(ClusterID,index=x_test.index,columns=[\"Cluster\"])\n",
    "\n",
    "Clust_X_test = pd.concat([ClusterID,y_test,x_test],axis=\"columns\")\n",
    "\n",
    "\n",
    "\n",
    "Clust0_test = Clust_X_test[Clust_X_test['Cluster']==0]\n",
    "Clust1_test = Clust_X_test[Clust_X_test['Cluster']==1]\n",
    "Clust2_test = Clust_X_test[Clust_X_test['Cluster']==2]\n",
    "print(Clust0_test.shape)\n",
    "print(Clust1_test.shape)\n",
    "print(Clust2_test.shape)\n",
    "\n",
    "\n",
    "##### pick the best models in each clusters\n",
    "Clust0_best=gb0\n",
    "Clust1_best=model_XGB1\n",
    "Clust2_best=model_GB2\n",
    "\n",
    "\n",
    "y_testset0 = Clust0_test[\"emotions\"]\n",
    "y_testset1 = Clust1_test[\"emotions\"]\n",
    "y_testset2 = Clust2_test[\"emotions\"]\n",
    "\n",
    "print(y_testset2.value_counts()) \n",
    "\n",
    "y_pred_test_clust0 = Clust0_best.predict_proba(Clust0_test.iloc[:,2:])\n",
    "\n",
    "y_pred_test_clust1 = Clust1_best.predict_proba(Clust1_test.iloc[:,2:])\n",
    "\n",
    "y_pred_test_clust2 = Clust2_best.predict_proba(Clust2_test.iloc[:,2:])\n",
    "\n",
    "if len(y_testset1.value_counts()) < 8 :      \n",
    "    \n",
    "    y_testset0 = pd.DataFrame(y_testset0,index=y_testset0.index)\n",
    "    y_testset1 = pd.DataFrame(y_testset1,index=y_testset1.index)\n",
    "    y_testset_df=pd.concat([y_testset0,y_testset1])\n",
    "    \n",
    "    \n",
    "    y_pred_test_clust0_df= pd.DataFrame(y_pred_test_clust0,index=Clust0_test.index)\n",
    "    y_pred_test_clust1_df= pd.DataFrame(y_pred_test_clust1,index=Clust1_test.index)\n",
    "    y_pred_concat_test_df=pd.concat([y_pred_test_clust0_df,y_pred_test_clust1_df])\n",
    "    \n",
    "elif len(y_testset2.value_counts()) < 8 :\n",
    "    \n",
    "    y_testset2 = pd.DataFrame(y_testset2,index=y_testset2.index)\n",
    "    y_testset0 = pd.DataFrame(y_testset0,index=y_testset0.index)\n",
    "    y_testset_df=pd.concat([y_testset0,y_testset2])\n",
    "    \n",
    "    y_pred_test_clust0_df= pd.DataFrame(y_pred_test_clust0,index=Clust0_test.index)\n",
    "    y_pred_test_clust2_df= pd.DataFrame(y_pred_test_clust2,index=Clust2_test.index)\n",
    "    y_pred_concat_test_df=pd.concat([y_pred_test_clust0_df,y_pred_test_clust2_df])\n",
    "\n",
    "else:\n",
    "    \n",
    "    y_testset0 = pd.DataFrame(y_testset0,index=y_testset0.index)\n",
    "    y_testset1 = pd.DataFrame(y_testset1,index=y_testset1.index)\n",
    "    y_testset2 = pd.DataFrame(y_testset2,index=y_testset2.index)    \n",
    "    y_testset_df=pd.concat([y_testset0,y_testset1,y_testset2])\n",
    "    \n",
    "    y_pred_test_clust0_df= pd.DataFrame(y_pred_test_clust0,index=Clust0_test.index)\n",
    "    y_pred_test_clust1_df= pd.DataFrame(y_pred_test_clust1,index=Clust1_test.index)\n",
    "    y_pred_test_clust2_df= pd.DataFrame(y_pred_test_clust2,index=Clust2_test.index)\n",
    "    y_pred_concat_test_df=pd.concat([y_pred_test_clust0_df,y_pred_test_clust1_df,y_pred_test_clust2_df])     \n",
    "\n",
    "#print(\"ROC_AUC \",roc_auc_score(y_testset0,y_pred_test_clust0, multi_class='ovr'))  \n",
    "#ROC_AUC  0.8447395777744287\n",
    "\n",
    "\n",
    "#print(\"ROC_AUC \",roc_auc_score(y_testset1,y_pred_test_clust1, multi_class='ovr'))  \n",
    "#ROC_AUC  0.8574143005768946\n",
    "\n",
    "\n",
    "#print(\"ROC_AUC \",roc_auc_score(y_testset2,y_pred_test_clust2, multi_class='ovr'))  \n",
    "\n",
    "\n",
    "print(\"ROC_AUC \",roc_auc_score(y_testset_df,y_pred_concat_test_df, multi_class='ovr'))  \n",
    "\n",
    "#ROC_AUC  0.8672289942434122"
   ]
  },
  {
   "cell_type": "markdown",
   "metadata": {},
   "source": [
    "# UNSEEN DATASET "
   ]
  },
  {
   "cell_type": "code",
   "execution_count": 73,
   "metadata": {},
   "outputs": [
    {
     "data": {
      "text/plain": [
       "(59,)"
      ]
     },
     "execution_count": 73,
     "metadata": {},
     "output_type": "execute_result"
    }
   ],
   "source": [
    "ClusterID_TEST = model_km.predict(X_TEST_scaled)\n",
    "ClusterID_TEST = pd.DataFrame(ClusterID_TEST,index=XT.index,columns=[\"Cluster\"])\n",
    "\n",
    "Clust_X_TEST = pd.concat([ClusterID_TEST,yT,XT],axis=\"columns\")\n",
    "\n",
    "\n",
    "Clust0_TEST = Clust_X_TEST[Clust_X_TEST['Cluster']==0]\n",
    "Clust1_TEST = Clust_X_TEST[Clust_X_TEST['Cluster']==1]\n",
    "Clust2_TEST = Clust_X_TEST[Clust_X_TEST['Cluster']==2]\n",
    "\n",
    "y_TESTset0 = Clust0_TEST[\"emotions\"]\n",
    "y_TESTset1 = Clust1_TEST[\"emotions\"]\n",
    "y_TESTset2 = Clust2_TEST[\"emotions\"]\n",
    "\n",
    "y_pred_TEST_clust0 = Clust0_best.predict_proba(Clust0_TEST.iloc[:,2:])\n",
    "\n",
    "y_TESTset0.shape"
   ]
  },
  {
   "cell_type": "code",
   "execution_count": 72,
   "metadata": {},
   "outputs": [],
   "source": [
    "############# predictions on the clusters ################\n",
    "\n",
    "if len(y_TESTset1.value_counts()) < 8 :      \n",
    "    \n",
    "    y_TESTset0 = pd.DataFrame(y_TESTset0,index=y_TESTset0.index)\n",
    "    y_TESTset1 = pd.DataFrame(y_TESTset1,index=y_TESTset1.index)    \n",
    "    y_TESTset_df=pd.concat([y_TESTset0,y_TESTset1])\n",
    "    \n",
    "    y_pred_TEST_clust1 = Clust1_best.predict_proba(Clust1_TEST.iloc[:,2:])\n",
    "    y_pred_TEST_clust0_df= pd.DataFrame(y_pred_TEST_clust0,index=Clust0_TEST.index)\n",
    "    y_pred_TEST_clust1_df= pd.DataFrame(y_pred_TEST_clust1,index=Clust1_TEST.index) \n",
    "    y_pred_concat_TEST_df=pd.concat([y_pred_TEST_clust0_df,y_pred_TEST_clust1_df])\n",
    "    \n",
    "elif len(y_TESTset2.value_counts()) < 8 :    \n",
    "                                                   \n",
    "    y_TESTset2 = pd.DataFrame(y_TESTset2,index=y_TESTset2.index)\n",
    "    y_TESTset0 = pd.DataFrame(y_TESTset0,index=y_TESTset0.index)\n",
    "    y_TESTset_df=pd.concat([y_TESTset0,y_TESTset2])\n",
    "    \n",
    "    y_pred_TEST_clust2 = Clust2_best.predict_proba(Clust2_TEST.iloc[:,2:])\n",
    "    y_pred_TEST_clust0_df= pd.DataFrame(y_pred_TEST_clust0,index=Clust0_TEST.index)\n",
    "    y_pred_TEST_clust2_df= pd.DataFrame(y_pred_TEST_clust2,index=Clust2_TEST.index)\n",
    "    y_pred_concat_TEST_df=pd.concat([y_pred_TEST_clust0_df,y_pred_TEST_clust2_df])\n",
    "\n",
    "else:\n",
    "    \n",
    "    y_pred_TEST_clust1 = Clust1_best.predict_proba(Clust1_TEST.iloc[:,2:])\n",
    "    y_pred_TEST_clust2 = Clust2_best.predict_proba(Clust2_TEST.iloc[:,2:])\n",
    "    y_TESTset0 = pd.DataFrame(y_TESTset0,index=y_TESTset0.index)\n",
    "    y_TESTset1 = pd.DataFrame(y_TESTset1,index=y_TESTset1.index)\n",
    "    y_TESTset2 = pd.DataFrame(y_TESTset2,index=y_TESTset2.index)\n",
    "    y_TESTset_df=pd.concat([y_TESTset0,y_TESTset1,y_TESTset2])\n",
    "    \n",
    "    y_pred_TEST_clust0_df= pd.DataFrame(y_pred_TEST_clust0,index=Clust0_TEST.index)\n",
    "    y_pred_TEST_clust1_df= pd.DataFrame(y_pred_TEST_clust1,index=Clust1_TEST.index)\n",
    "    y_pred_TEST_clust2_df= pd.DataFrame(y_pred_TEST_clust2,index=Clust2_TEST.index)\n",
    "    \n",
    "    y_pred_concat_TEST_df=pd.concat([y_pred_TEST_clust0_df,y_pred_TEST_clust1_df,y_pred_TEST_clust2_df])    \n",
    "    \n",
    "    \n"
   ]
  },
  {
   "cell_type": "code",
   "execution_count": 64,
   "metadata": {},
   "outputs": [
    {
     "name": "stdout",
     "output_type": "stream",
     "text": [
      "ROC_AUC  0.7937843406593406\n"
     ]
    }
   ],
   "source": [
    "#print(\"ROC_AUC \",roc_auc_score(y_TESTset0,y_pred_TEST_clust0, multi_class='ovr'))  \n",
    "\n",
    "\n",
    "#print(\"ROC_AUC \",roc_auc_score(y_TESTset1,y_pred_TEST_clust1, multi_class='ovr'))  \n",
    "\n",
    "\n",
    "print(\"ROC_AUC \",roc_auc_score(y_TESTset_df,y_pred_concat_TEST_df, multi_class='ovr'))  \n",
    "#ROC_AUC  0.8284254807692307\n"
   ]
  },
  {
   "cell_type": "code",
   "execution_count": null,
   "metadata": {},
   "outputs": [],
   "source": []
  }
 ],
 "metadata": {
  "kernelspec": {
   "display_name": "Python 3",
   "language": "python",
   "name": "python3"
  }
 },
 "nbformat": 4,
 "nbformat_minor": 2
}
