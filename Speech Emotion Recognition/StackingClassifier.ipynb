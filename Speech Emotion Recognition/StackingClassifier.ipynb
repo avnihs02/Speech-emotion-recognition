{
 "cells": [
  {
   "cell_type": "code",
   "execution_count": 1,
   "metadata": {},
   "outputs": [],
   "source": [
    "import librosa\n",
    "import soundfile\n",
    "import os, glob\n",
    "import numpy as np\n",
    "from sklearn.model_selection import train_test_split\n",
    "from sklearn.neural_network import MLPClassifier\n",
    "from sklearn.metrics import accuracy_score\n",
    "from xgboost import XGBClassifier\n",
    "import pandas as pd\n",
    "from sklearn import preprocessing \n",
    "from sklearn.preprocessing import MinMaxScaler\n",
    "from sklearn.ensemble import RandomForestClassifier\n",
    "from sklearn.ensemble import StackingClassifier\n",
    "from sklearn.svm import SVC\n",
    "from sklearn.model_selection import KFold\n",
    "from sklearn.model_selection import GridSearchCV\n",
    "from sklearn.ensemble import VotingClassifier"
   ]
  },
  {
   "cell_type": "code",
   "execution_count": 2,
   "metadata": {},
   "outputs": [],
   "source": [
    "emotions={\n",
    "  '01':'neutral',\n",
    "  '02':'calm',\n",
    "  '03':'happy',\n",
    "  '04':'sad',\n",
    "  '05':'angry',\n",
    "  '06':'fearful',\n",
    "  '07':'disgust',\n",
    "  '08':'surprised'\n",
    "}"
   ]
  },
  {
   "cell_type": "code",
   "execution_count": 3,
   "metadata": {},
   "outputs": [],
   "source": [
    "def extract_feature(file_name, mfcc, chroma,spectral_centroid,spectral_bandwidth,\n",
    "                    spectral_rolloff,spectral_contrast,rms,spectral_flatness):\n",
    "    with soundfile.SoundFile(file_name) as sound_file:\n",
    "        X = sound_file.read(dtype=\"float32\")\n",
    "        sample_rate=sound_file.samplerate\n",
    "        if chroma:\n",
    "            stft=np.abs(librosa.stft(X))\n",
    "        result=np.array([])\n",
    "        if mfcc:\n",
    "            mfccs=np.mean(librosa.feature.mfcc(y=X, sr=sample_rate, n_mfcc=40).T, axis=0)\n",
    "            result=np.hstack((result, mfccs))\n",
    "            \n",
    "            \n",
    "        if chroma:\n",
    "            chroma=np.mean(librosa.feature.chroma_stft(S=stft, sr=sample_rate).T,axis=0)\n",
    "            result=np.hstack((result, chroma))             \n",
    "           \n",
    "            \n",
    "        if spectral_centroid:\n",
    "            spectral_centroid=np.mean(librosa.feature.spectral_centroid(y=X, sr=sample_rate))\n",
    "            result=np.hstack((result, spectral_centroid)) \n",
    "        \n",
    "        if spectral_bandwidth:\n",
    "           spectral_bandwidth=np.mean(librosa.feature.spectral_bandwidth(y=X, sr=sample_rate).T)\n",
    "#           print(spectral_bandwidth)\n",
    "           result=np.hstack((result, spectral_bandwidth)) \n",
    "           \n",
    "        if spectral_rolloff:\n",
    "           spectral_rolloff=np.mean(librosa.feature.spectral_rolloff(y=X, sr=sample_rate).T)\n",
    "#           print(spectral_rolloff)\n",
    "           result=np.hstack((result, spectral_rolloff))\n",
    "        \n",
    "        if spectral_contrast:\n",
    "           spectral_contrast=np.mean(librosa.feature.spectral_contrast(y=X, sr=sample_rate))\n",
    "           result=np.hstack((result, spectral_contrast))\n",
    "           \n",
    "        if rms:\n",
    "           rms=np.mean(librosa.feature.rms(y=X).T,axis=0)\n",
    "           result=np.hstack((result, rms))\n",
    "           \n",
    "        if spectral_flatness:\n",
    "           spectral_flatness=np.mean(librosa.feature.spectral_flatness(y=X))\n",
    "           result=np.hstack((result, spectral_flatness))\n",
    "        \n",
    "        return result\n"
   ]
  },
  {
   "cell_type": "code",
   "execution_count": 6,
   "metadata": {},
   "outputs": [],
   "source": [
    "def load_data():\n",
    "    x,y=[],[]\n",
    "    for file in glob.glob(\"D:\\\\DBDA\\PROJECT\\\\speech-emotion-recognition-ravdess-data\\\\Actor_*\\\\*.wav\"):\n",
    "        file_name=os.path.basename(file)\n",
    "        emotion=emotions[file_name.split(\"-\")[2]]\n",
    "        feature=extract_feature(file, mfcc=True, chroma=True,spectral_centroid=True,spectral_bandwidth=True,\n",
    "                                spectral_rolloff=True,spectral_contrast=True,rms=True,spectral_flatness=True)\n",
    "        x.append(feature)\n",
    "        y.append(emotion)\n",
    "\n",
    "    return x,y"
   ]
  },
  {
   "cell_type": "code",
   "execution_count": 7,
   "metadata": {},
   "outputs": [],
   "source": [
    "x_data,y_data=load_data()\n",
    "features=[]\n",
    "for i in range(1,59):\n",
    "    features.append(\"feat\"+str(i))\n",
    "\n",
    "le = preprocessing.LabelEncoder()\n",
    "y=le.fit_transform(y_data)\n",
    "y=pd.DataFrame(y,columns=[\"emotions\"])"
   ]
  },
  {
   "cell_type": "code",
   "execution_count": 8,
   "metadata": {},
   "outputs": [],
   "source": [
    "X=pd.DataFrame(x_data, columns=features)\n",
    "X_train,X_test,y_train,y_test=train_test_split(X,y, stratify=y, random_state=42,test_size=0.05)"
   ]
  },
  {
   "cell_type": "code",
   "execution_count": 9,
   "metadata": {},
   "outputs": [
    {
     "name": "stdout",
     "output_type": "stream",
     "text": [
      "Features extracted: 58\n"
     ]
    }
   ],
   "source": [
    "scaler = MinMaxScaler()\n",
    "X_train_scaled=scaler.fit_transform(X_train)\n",
    "X_train_scaled=pd.DataFrame(X_train_scaled,index=X_train.index, columns=X_train.columns)\n",
    "X_test_scaled=scaler.fit_transform(X_test)       \n",
    "X_test_scaled=pd.DataFrame(X_test_scaled,index=X_test.index, columns=X_test.columns)\n",
    "print(f'Features extracted: {X_train.shape[1]}')"
   ]
  },
  {
   "cell_type": "code",
   "execution_count": 10,
   "metadata": {},
   "outputs": [],
   "source": [
    "kfold = KFold(n_splits=5,random_state=42, shuffle=True)"
   ]
  },
  {
   "cell_type": "code",
   "execution_count": 11,
   "metadata": {},
   "outputs": [
    {
     "name": "stdout",
     "output_type": "stream",
     "text": [
      "Fitting 5 folds for each of 1 candidates, totalling 5 fits\n"
     ]
    },
    {
     "name": "stderr",
     "output_type": "stream",
     "text": [
      "[Parallel(n_jobs=-1)]: Using backend LokyBackend with 16 concurrent workers.\n",
      "[Parallel(n_jobs=-1)]: Done   2 out of   5 | elapsed:    1.6s remaining:    2.5s\n",
      "[Parallel(n_jobs=-1)]: Done   5 out of   5 | elapsed:    1.6s finished\n",
      "C:\\Users\\dai\\Anaconda3\\lib\\site-packages\\sklearn\\utils\\validation.py:744: DataConversionWarning: A column-vector y was passed when a 1d array was expected. Please change the shape of y to (n_samples, ), for example using ravel().\n",
      "  y = column_or_1d(y, warn=True)\n"
     ]
    },
    {
     "name": "stdout",
     "output_type": "stream",
     "text": [
      "SVC  0.5306970401860912\n",
      "{'decision_function_shape': 'ovo', 'gamma': 'scale'}\n"
     ]
    }
   ],
   "source": [
    "############ Model-1 \n",
    "\n",
    "model_svc=SVC(kernel='rbf',random_state=42)\n",
    "param_svc={'gamma':['scale'],'decision_function_shape':['ovo']}\n",
    "grid_svc=GridSearchCV(model_svc,param_grid=param_svc,verbose=3,n_jobs=-1)\n",
    "grid_svc.fit(X_train_scaled,y_train)\n",
    "\n",
    "svc=grid_svc.best_estimator_\n",
    "print(\"SVC \",grid_svc.best_score_)\n",
    "print(grid_svc.best_params_)"
   ]
  },
  {
   "cell_type": "code",
   "execution_count": null,
   "metadata": {},
   "outputs": [],
   "source": [
    "############ Model-2\n",
    "\n",
    "model_rf=RandomForestClassifier(random_state=42)\n",
    "param_rf={'n_estimators':[6000,7000,8000],\n",
    "          'max_depth':[29,23,25,27],\n",
    "          'min_samples_split':[2,4],\n",
    "          'oob_score':[True],\n",
    "          'max_features':['auto','sqrt','log2']}\n",
    "\n",
    "grid_rf=GridSearchCV(model_rf,param_grid=param_rf,verbose=4,n_jobs=-1)\n",
    "grid_rf.fit(X_train_scaled,y_train)\n",
    "rf=grid_rf.best_estimator_\n",
    "print(\"RF \",grid_rf.best_score_)\n",
    "print(grid_rf.best_params_)"
   ]
  },
  {
   "cell_type": "code",
   "execution_count": null,
   "metadata": {},
   "outputs": [],
   "source": [
    "############ Model-3\n",
    "\n",
    "model_mlp=MLPClassifier(random_state=42)\n",
    "#(350,410,330)\n",
    "param_mlp={'learning_rate_init':np.linspace(0.01,0.3,20),\n",
    "          'hidden_layer_sizes':[(124,123,132),(210,230,260)],\n",
    "          'activation':['logistic','tanh','relu'],\n",
    "          'learning_rate':['constant', 'invscaling', 'adaptive']}\n",
    "\n",
    "grid_mlp=GridSearchCV(model_mlp, param_grid=param_mlp, verbose=3, cv=kfold,n_jobs=-1)\n",
    "grid_mlp.fit(X_train_scaled,y_train)\n",
    "mlp=grid_mlp.best_estimator_\n",
    "\n",
    "print(\"MLP \",grid_mlp.best_score_)\n",
    "print(grid_mlp.best_params_)"
   ]
  },
  {
   "cell_type": "code",
   "execution_count": null,
   "metadata": {},
   "outputs": [],
   "source": [
    "###### Now level 2 model XGBoost ###########\n",
    "clf = XGBClassifier(random_state=2019)\n",
    "\n",
    "lr_range = [0.01, 0.1, 0.2,0.3,0.5]\n",
    "n_est_range = [90,50,100,200]\n",
    "md_range = [2,4,6,8,10]\n",
    "\n",
    "parameters = {'learning_rate':lr_range,\n",
    "                  'n_estimators':n_est_range,\n",
    "                  'max_depth':md_range}\n",
    "\n",
    "grid_xgb=GridSearchCV(clf, param_grid=parameters, verbose=3, cv=kfold,n_jobs=-1)\n",
    "grid_xgb.fit(X_train_scaled,y_train)\n",
    "xgb=grid_xgb.best_estimator_\n",
    "print(\"xgb \",grid_xgb.best_score_)\n",
    "print(grid_xgb.best_params_)\n"
   ]
  },
  {
   "cell_type": "code",
   "execution_count": null,
   "metadata": {},
   "outputs": [],
   "source": [
    "#\n",
    "#ourEstimators = [\n",
    "#    ('SVC :',SVC(random_state=42, kernel='rbf', decision_function_shape='ovo',gamma='scale')),\n",
    "#    ('RF :',RandomForestClassifier(random_state=42, max_depth=25,max_features='auto', \n",
    "                                        #min_samples_split=2,n_estimators=6000,oob_score=True)),\n",
    "#    ('MLP :', MLPClassifier(random_state=42,activation='tanh', hidden_layer_sizes=(124,123,132),\n",
    "                                    #learning_rate='constant',learning_rate_init=0.01))\n",
    "#]"
   ]
  },
  {
   "cell_type": "code",
   "execution_count": null,
   "metadata": {},
   "outputs": [],
   "source": [
    "#reg = StackingClassifier(\n",
    "#    estimators=ourEstimators,cv=kfold,\n",
    "#    final_estimator=XGBClassifier(random_state=42,learning_rate=0.2,max_depth=4, n_estimators=175),\n",
    "#    passthrough=True,verbose=3,n_jobs=-1\n",
    "#)\n",
    "#    \n",
    "#reg.fit(X_train_scaled, y_train)\n",
    "#y_pred_stack=reg.predict(X_test_scaled)\n",
    "#print(\"Accuracy=\",accuracy_score(y_test, y_pred_stack))"
   ]
  },
  {
   "cell_type": "code",
   "execution_count": null,
   "metadata": {},
   "outputs": [],
   "source": [
    "ourEstimators1 = [\n",
    "    ('SVC :',svc),\n",
    "    ('RF :',rf),\n",
    "    ('MLP :',mlp),\n",
    "    ('xgb:',xgb)    \n",
    "]"
   ]
  },
  {
   "cell_type": "code",
   "execution_count": null,
   "metadata": {},
   "outputs": [],
   "source": [
    "Voting = VotingClassifier(estimators=ourEstimators1,voting='hard',weights=[0.5,1,3,2],n_jobs=-1)\n",
    "Voting.fit(X_train_scaled,y_train)\n",
    "y_pred_vot=Voting.predict(X_test_scaled)\n",
    "print(\"Accuracy=\",accuracy_score(y_test, y_pred_vot))"
   ]
  }
 ],
 "metadata": {
  "kernelspec": {
   "display_name": "Python 3",
   "language": "python",
   "name": "python3"
  },
  "language_info": {
   "codemirror_mode": {
    "name": "ipython",
    "version": 3
   },
   "file_extension": ".py",
   "mimetype": "text/x-python",
   "name": "python",
   "nbconvert_exporter": "python",
   "pygments_lexer": "ipython3",
   "version": "3.7.4"
  }
 },
 "nbformat": 4,
 "nbformat_minor": 2
}
