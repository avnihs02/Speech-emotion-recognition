{
 "cells": [
  {
   "cell_type": "markdown",
   "metadata": {},
   "source": [
    "################  IMPORTING THE REQUIRED LIBRARIES"
   ]
  },
  {
   "cell_type": "code",
   "execution_count": 2,
   "metadata": {},
   "outputs": [],
   "source": [
    "import numpy as np\n",
    "import soundfile\n",
    "import os, glob\n",
    "from sklearn.model_selection import train_test_split\n",
    "from sklearn.metrics import accuracy_score\n",
    "import pandas as pd\n",
    "import librosa\n",
    "from sklearn import preprocessing \n",
    "from sklearn.model_selection import StratifiedKFold\n",
    "from sklearn.model_selection import GridSearchCV\n",
    "from sklearn.neural_network import MLPClassifier"
   ]
  },
  {
   "cell_type": "markdown",
   "metadata": {},
   "source": [
    "############## EMOTIONS INCLUDED IN THE DATASET"
   ]
  },
  {
   "cell_type": "code",
   "execution_count": 3,
   "metadata": {},
   "outputs": [],
   "source": [
    "emotions={\n",
    "  '01':'neutral',\n",
    "  '02':'calm',\n",
    "  '03':'happy',\n",
    "  '04':'sad',\n",
    "  '05':'angry',\n",
    "  '06':'fearful',\n",
    "  '07':'disgust',\n",
    "  '08':'surprised'\n",
    "}"
   ]
  },
  {
   "cell_type": "markdown",
   "metadata": {},
   "source": [
    "############## EXTRACTING FEATURES FROM THE AUDIO SIGNAL USING LIBROSA"
   ]
  },
  {
   "cell_type": "code",
   "execution_count": 4,
   "metadata": {},
   "outputs": [],
   "source": [
    "def extract_feature(file_name, mfcc, chroma,spectral_centroid,spectral_bandwidth,\n",
    "                    spectral_rolloff,spectral_contrast,rms,spectral_flatness):\n",
    "    with soundfile.SoundFile(file_name) as sound_file:\n",
    "        X = sound_file.read(dtype=\"float32\")\n",
    "        sample_rate=sound_file.samplerate\n",
    "        if chroma:\n",
    "            stft=np.abs(librosa.stft(X))\n",
    "        result=np.array([])\n",
    "        if mfcc:\n",
    "            mfccs=np.mean(librosa.feature.mfcc(y=X, sr=sample_rate, n_mfcc=40).T, axis=0)\n",
    "            result=np.hstack((result, mfccs))\n",
    "            \n",
    "            \n",
    "        if chroma:\n",
    "            chroma=np.mean(librosa.feature.chroma_stft(S=stft, sr=sample_rate).T,axis=0)\n",
    "            result=np.hstack((result, chroma))             \n",
    "           \n",
    "            \n",
    "        if spectral_centroid:\n",
    "            spectral_centroid=np.mean(librosa.feature.spectral_centroid(y=X, sr=sample_rate))\n",
    "            result=np.hstack((result, spectral_centroid)) \n",
    "        \n",
    "        if spectral_bandwidth:\n",
    "           spectral_bandwidth=np.mean(librosa.feature.spectral_bandwidth(y=X, sr=sample_rate).T)\n",
    "#           print(spectral_bandwidth)\n",
    "           result=np.hstack((result, spectral_bandwidth)) \n",
    "           \n",
    "        if spectral_rolloff:\n",
    "           spectral_rolloff=np.mean(librosa.feature.spectral_rolloff(y=X, sr=sample_rate).T)\n",
    "#           print(spectral_rolloff)\n",
    "           result=np.hstack((result, spectral_rolloff))\n",
    "        \n",
    "        if spectral_contrast:\n",
    "           spectral_contrast=np.mean(librosa.feature.spectral_contrast(y=X, sr=sample_rate))\n",
    "           result=np.hstack((result, spectral_contrast))\n",
    "           \n",
    "        if rms:\n",
    "           rms=np.mean(librosa.feature.rms(y=X).T,axis=0)\n",
    "           result=np.hstack((result, rms))\n",
    "           \n",
    "        if spectral_flatness:\n",
    "           spectral_flatness=np.mean(librosa.feature.spectral_flatness(y=X))\n",
    "           result=np.hstack((result, spectral_flatness))\n",
    "        \n",
    "        return result"
   ]
  },
  {
   "cell_type": "markdown",
   "metadata": {},
   "source": [
    "##############     LOADING THE DATASET AND  EXTRACTING ALL THE FEATURES FROM IT  "
   ]
  },
  {
   "cell_type": "code",
   "execution_count": 5,
   "metadata": {},
   "outputs": [],
   "source": [
    "def load_data():\n",
    "    x,y=[],[]\n",
    "    for file in glob.glob(r\"F:\\speech_project\\speech-emotion-recognition-ravdess-data\\Actor_*\\*.wav\"):\n",
    "        file_name=os.path.basename(file)\n",
    "        emotion=emotions[file_name.split(\"-\")[2]]\n",
    "        feature=extract_feature(file, mfcc=True, chroma=True,spectral_centroid=True,spectral_bandwidth=True,\n",
    "                                spectral_rolloff=True,spectral_contrast=True,rms=True,spectral_flatness=True)\n",
    "        x.append(feature)\n",
    "        y.append(emotion)\n",
    "    return x,y\n"
   ]
  },
  {
   "cell_type": "markdown",
   "metadata": {},
   "source": [
    "##############     SHUFFLING OF OBS AND RESETTING THE OBS INDEXES"
   ]
  },
  {
   "cell_type": "code",
   "execution_count": 6,
   "metadata": {},
   "outputs": [],
   "source": [
    "X,y=load_data()\n",
    "X=pd.DataFrame(X)\n",
    "y=pd.DataFrame(y)\n",
    "data=pd.concat([X,y],axis=\"columns\")\n",
    "data=data.sample(frac=1).reset_index(drop=True)\n",
    "X=data.iloc[:,0:58]\n",
    "y=data.iloc[:,58]"
   ]
  },
  {
   "cell_type": "markdown",
   "metadata": {},
   "source": [
    "##############     LABEL ENCODING THE RESPONSE VARIABLES"
   ]
  },
  {
   "cell_type": "code",
   "execution_count": 7,
   "metadata": {},
   "outputs": [],
   "source": [
    "le = preprocessing.LabelEncoder()\n",
    "y=le.fit_transform(y)"
   ]
  },
  {
   "cell_type": "markdown",
   "metadata": {},
   "source": [
    "##############     SPLITTING THE DATA INTO TRAIN(95%) AND TEST(5%)"
   ]
  },
  {
   "cell_type": "code",
   "execution_count": 8,
   "metadata": {},
   "outputs": [
    {
     "name": "stdout",
     "output_type": "stream",
     "text": [
      "(1345, 71)\n",
      "Features extracted: 58\n"
     ]
    }
   ],
   "source": [
    "x_train,x_test,y_train,y_test=train_test_split(X, y, test_size=0.05, random_state=42)\n",
    "print((x_train.shape[0], x_test.shape[0]))\n",
    "\n",
    "print(f'Features extracted: {x_train.shape[1]}')"
   ]
  },
  {
   "cell_type": "code",
   "execution_count": 9,
   "metadata": {},
   "outputs": [],
   "source": [
    "kfold = StratifiedKFold(n_splits=5, random_state=42,shuffle=True)"
   ]
  },
  {
   "cell_type": "markdown",
   "metadata": {},
   "source": [
    "################### HYPER-PARAMETER TUNING"
   ]
  },
  {
   "cell_type": "code",
   "execution_count": 10,
   "metadata": {},
   "outputs": [],
   "source": [
    "param_mlp={'learning_rate_init':np.linspace(0.01,0.3,20),\n",
    "          'hidden_layer_sizes':[(124,123,132),(210,230,260)],\n",
    "          'activation':['logistic','tanh','relu'],\n",
    "          'learning_rate':['constant', 'invscaling', 'adaptive']}"
   ]
  },
  {
   "cell_type": "markdown",
   "metadata": {},
   "source": [
    "#################### TRAINING THE MODEL"
   ]
  },
  {
   "cell_type": "code",
   "execution_count": 11,
   "metadata": {},
   "outputs": [
    {
     "name": "stderr",
     "output_type": "stream",
     "text": [
      "[Parallel(n_jobs=-1)]: Using backend LokyBackend with 8 concurrent workers.\n",
      "[Parallel(n_jobs=-1)]: Done  82 tasks      | elapsed:   17.6s\n",
      "[Parallel(n_jobs=-1)]: Done 376 tasks      | elapsed:  1.7min\n",
      "[Parallel(n_jobs=-1)]: Done 866 tasks      | elapsed:  4.9min\n",
      "[Parallel(n_jobs=-1)]: Done 1552 tasks      | elapsed:  9.5min\n",
      "[Parallel(n_jobs=-1)]: Done 1800 out of 1800 | elapsed: 11.9min finished\n"
     ]
    },
    {
     "name": "stdout",
     "output_type": "stream",
     "text": [
      "0.28169014084507044\n",
      "{'activation': 'relu', 'hidden_layer_sizes': (210, 230, 260), 'learning_rate': 'constant', 'learning_rate_init': 0.01}\n",
      "0.308550185873606\n"
     ]
    }
   ],
   "source": [
    "# Initialize the Multi Layer Perceptron Classifier\n",
    "model=MLPClassifier(random_state=2019,max_iter=500)\n",
    "mlpGrid = GridSearchCV(model, param_grid=param_mlp, cv=kfold,scoring='accuracy', verbose=-3, n_jobs=-1)\n",
    "\n",
    "# Train the model\n",
    "mlpGrid.fit(x_train,y_train)\n",
    "\n",
    "# Predict for the test set\n",
    "y_pred_1=mlpGrid.predict(x_test)\n",
    "\n",
    "print(accuracy_score(y_test, y_pred_1))\n",
    "## Best Parameters\n",
    "print(mlpGrid.best_params_)\n",
    "print(mlpGrid.best_score_)"
   ]
  },
  {
   "cell_type": "markdown",
   "metadata": {},
   "source": [
    "############# SAVING THE MODEL"
   ]
  },
  {
   "cell_type": "code",
   "execution_count": 12,
   "metadata": {},
   "outputs": [
    {
     "name": "stdout",
     "output_type": "stream",
     "text": [
      "Model Saved!!\n"
     ]
    }
   ],
   "source": [
    "import pickle\n",
    "pickle.dump(mlpGrid, open(\"C:\\\\Users\\\\dbda\\\\Desktop\\\\project\\\\MLP.pkl\", 'wb'))\n",
    "print(\"Model Saved!!\")"
   ]
  },
  {
   "cell_type": "markdown",
   "metadata": {},
   "source": [
    "#################### Prediction on unseen data"
   ]
  },
  {
   "cell_type": "code",
   "execution_count": 13,
   "metadata": {},
   "outputs": [],
   "source": [
    "\n",
    "def load_test_data():\n",
    "    x_test,y_test=[],[]\n",
    "    \n",
    "    file=\"F:\\\\speech_project\\\\UnSeenSet\\\\03-01-07-01-01-02-15.wav\"\n",
    "    emotion=emotions[file.split(\"-\")[2]]\n",
    "    feature=extract_feature(file, mfcc=True, chroma=True,spectral_centroid=True,spectral_bandwidth=True,\n",
    "                            spectral_rolloff=True,spectral_contrast=True,rms=True,spectral_flatness=True)\n",
    "    \n",
    "    x_test.append(feature)\n",
    "    y_test.append(emotion)\n",
    "    print(x_test)\n",
    "    return x_test,y_test"
   ]
  },
  {
   "cell_type": "code",
   "execution_count": 14,
   "metadata": {},
   "outputs": [
    {
     "name": "stdout",
     "output_type": "stream",
     "text": [
      "[array([-5.76542969e+02,  6.80835495e+01, -2.08600235e+01,  1.93035564e+01,\n",
      "        1.35577583e+00, -1.16599786e+00, -6.15480709e+00, -5.99488688e+00,\n",
      "        1.69360983e+00,  2.48043895e+00, -1.89693403e+00, -8.06386828e-01,\n",
      "        1.91894567e+00,  6.07720947e+00, -9.03752983e-01, -9.56951082e-01,\n",
      "        7.98137605e-01, -4.33641291e+00,  4.76005189e-02,  1.36326599e+00,\n",
      "       -2.66334414e-01,  9.42056358e-01,  1.03757173e-01,  3.81496608e-01,\n",
      "        4.33735341e-01,  1.11797643e+00, -5.18218040e-01,  2.82531047e+00,\n",
      "        9.52483118e-02,  1.69378901e+00, -2.51021296e-01,  2.14043283e+00,\n",
      "        3.39507866e+00,  3.61230636e+00,  2.16703892e+00,  2.10190296e+00,\n",
      "        3.72034073e-01,  1.80648112e+00, -3.42183448e-02, -1.00127256e+00,\n",
      "        5.94972134e-01,  5.97770333e-01,  5.77731550e-01,  6.29865050e-01,\n",
      "        7.22877383e-01,  7.31866360e-01,  6.78925991e-01,  7.01202929e-01,\n",
      "        7.34922707e-01,  7.51407385e-01,  7.65149891e-01,  6.68664038e-01,\n",
      "        2.17363899e+03,  1.79391961e+03,  4.10286458e+03,  1.74552461e+01,\n",
      "        4.08967212e-03,  6.70886040e-02])]\n",
      "['disgust']\n"
     ]
    }
   ],
   "source": [
    "X_test_data,y_test_data=load_test_data()\n",
    "print(y_test_data)"
   ]
  },
  {
   "cell_type": "markdown",
   "metadata": {},
   "source": [
    "########### LOADING SAVED MODEL"
   ]
  },
  {
   "cell_type": "code",
   "execution_count": 15,
   "metadata": {},
   "outputs": [
    {
     "name": "stdout",
     "output_type": "stream",
     "text": [
      "[7]\n"
     ]
    }
   ],
   "source": [
    "\n",
    "import pickle\n",
    "loaded_model = pickle.load(open(\"C:\\\\Users\\\\dbda\\\\Desktop\\\\project\\\\MLP.pkl\", 'rb'))\n",
    "result = loaded_model.predict(X_test_data)\n",
    "print(result)"
   ]
  },
  {
   "cell_type": "code",
   "execution_count": 16,
   "metadata": {},
   "outputs": [
    {
     "name": "stdout",
     "output_type": "stream",
     "text": [
      "['surprised']\n"
     ]
    }
   ],
   "source": [
    "print(le.inverse_transform(result))"
   ]
  }
 ],
 "metadata": {
  "kernelspec": {
   "display_name": "Python 3",
   "language": "python",
   "name": "python3"
  },
  "language_info": {
   "codemirror_mode": {
    "name": "ipython",
    "version": 3
   },
   "file_extension": ".py",
   "mimetype": "text/x-python",
   "name": "python",
   "nbconvert_exporter": "python",
   "pygments_lexer": "ipython3",
   "version": "3.7.4"
  }
 },
 "nbformat": 4,
 "nbformat_minor": 2
}
